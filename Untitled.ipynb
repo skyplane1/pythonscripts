{
 "cells": [
  {
   "cell_type": "code",
   "execution_count": 7,
   "metadata": {},
   "outputs": [
    {
     "name": "stdout",
     "output_type": "stream",
     "text": [
      "6\n",
      "[0, 3]\n",
      "5\n",
      "[0, 3, 4]\n",
      "3\n",
      "[0, 3, 4, 5]\n",
      "2\n",
      "[0, 3, 4, 5, 4]\n",
      "4\n",
      "[0, 3, 4, 5, 4, 5]\n",
      "3\n",
      "[0, 3, 4, 5, 4, 5, 6]\n",
      "4\n",
      "[0, 3, 4, 5, 4, 5, 6, 7]\n",
      "2\n",
      "[0, 3, 4, 5, 4, 5, 6, 7, 6]\n",
      "2\n",
      "[0, 3, 4, 5, 4, 5, 6, 7, 6, 5]\n",
      "1\n",
      "[0, 3, 4, 5, 4, 5, 6, 7, 6, 5, 4]\n"
     ]
    }
   ],
   "source": [
    "import numpy as np\n",
    "import matplotlib.pyplot as plt\n",
    "step_list = [0]\n",
    "np.random.seed(123)\n",
    "\n",
    "step = 0\n",
    "for i in range(10):\n",
    "    dice = np.random.randint(1,7)\n",
    "    print(dice)\n",
    "    if dice <= 2 :\n",
    "        step = step - 1\n",
    "    elif dice <= 5 :\n",
    "        step = step + 1\n",
    "    else :\n",
    "        step = step + np.random.randint(1,7)        \n",
    "        \n",
    "    step_list.append(step)\n",
    "    print(step_list)"
   ]
  },
  {
   "cell_type": "code",
   "execution_count": 8,
   "metadata": {},
   "outputs": [
    {
     "name": "stdout",
     "output_type": "stream",
     "text": [
      "6\n",
      "[0, 3]\n",
      "5\n",
      "[0, 3, 4]\n",
      "3\n",
      "[0, 3, 4, 5]\n",
      "2\n",
      "[0, 3, 4, 5, 4]\n",
      "4\n",
      "[0, 3, 4, 5, 4, 5]\n",
      "3\n",
      "[0, 3, 4, 5, 4, 5, 6]\n",
      "4\n",
      "[0, 3, 4, 5, 4, 5, 6, 7]\n",
      "2\n",
      "[0, 3, 4, 5, 4, 5, 6, 7, 6]\n",
      "2\n",
      "[0, 3, 4, 5, 4, 5, 6, 7, 6, 5]\n",
      "1\n",
      "[0, 3, 4, 5, 4, 5, 6, 7, 6, 5, 4]\n"
     ]
    }
   ],
   "source": [
    "import numpy as np\n",
    "import matplotlib.pyplot as plt\n",
    "step_list = [0]\n",
    "np.random.seed(123)\n",
    "\n",
    "step = 0\n",
    "for i in range(10):\n",
    "    dice = np.random.randint(1,7)\n",
    "    # print(dice)\n",
    "    if dice <= 2 :\n",
    "        step = step - 1\n",
    "    elif dice <= 5 :\n",
    "        step = step + 1\n",
    "    else :\n",
    "        step = step + np.random.randint(1,7)        \n",
    "        \n",
    "    step_list.append(step)\n",
    "    print(step_list)"
   ]
  }
 ],
 "metadata": {
  "kernelspec": {
   "display_name": "Python 3",
   "language": "python",
   "name": "python3"
  },
  "language_info": {
   "codemirror_mode": {
    "name": "ipython",
    "version": 3
   },
   "file_extension": ".py",
   "mimetype": "text/x-python",
   "name": "python",
   "nbconvert_exporter": "python",
   "pygments_lexer": "ipython3",
   "version": "3.7.1"
  }
 },
 "nbformat": 4,
 "nbformat_minor": 2
}
