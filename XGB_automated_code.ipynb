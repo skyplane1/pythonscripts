{
 "cells": [
  {
   "cell_type": "code",
   "execution_count": 72,
   "metadata": {},
   "outputs": [],
   "source": [
    "# import sklearn packages for modelling\n",
    "from sklearn import metrics\n",
    "#from sklearn.experimental import enable_iterative_imputer\n",
    "#from sklearn.impute import IterativeImputer\n",
    "#from sklearn.preprocessing import MinMaxScaler\n",
    "from sklearn.preprocessing import Imputer\n",
    "from sklearn.preprocessing import LabelEncoder\n",
    "from sklearn.model_selection import train_test_split\n",
    "from sklearn.model_selection import KFold\n",
    "from sklearn.model_selection import cross_val_score\n",
    "from sklearn.metrics import classification_report\n",
    "from sklearn.metrics import confusion_matrix\n",
    "from sklearn.metrics import accuracy_score\n",
    "from sklearn.metrics import precision_score\n",
    "from sklearn.metrics import recall_score\n",
    "from sklearn.pipeline import Pipeline\n",
    "from sklearn.linear_model import LogisticRegression\n",
    "from sklearn.tree import DecisionTreeClassifier\n",
    "from sklearn import model_selection\n",
    "from sklearn.neighbors import KNeighborsClassifier\n",
    "from sklearn.naive_bayes import GaussianNB\n",
    "from sklearn.svm import SVC\n",
    "from sklearn.ensemble import RandomForestClassifier\n",
    "from sklearn.metrics import auc\n",
    "import lightgbm as lgb\n",
    "from sklearn.model_selection import RandomizedSearchCV, GridSearchCV\n",
    "from sklearn.metrics import roc_auc_score\n",
    "from sklearn.model_selection import StratifiedKFold"
   ]
  },
  {
   "cell_type": "code",
   "execution_count": 73,
   "metadata": {},
   "outputs": [],
   "source": [
    "# All Package Imports\n",
    "import pandas as pd\n",
    "import numpy as np\n",
    "import os\n",
    "from pprint import pprint\n",
    "import matplotlib.pyplot as plt\n",
    "import seaborn as sns\n",
    "import warnings\n",
    "warnings.filterwarnings(\"ignore\")\n",
    "import time\n",
    "from datetime import datetime"
   ]
  },
  {
   "cell_type": "code",
   "execution_count": 74,
   "metadata": {},
   "outputs": [
    {
     "name": "stdout",
     "output_type": "stream",
     "text": [
      "47825\n"
     ]
    },
    {
     "data": {
      "text/plain": [
       "Index(['DBR_in_percentage', 'Merchant_City', 'Merchant_Pincode',\n",
       "       'Merchant_State', 'New_Model_Bands', 'age', 'app_downloaded_android',\n",
       "       'app_downloaded_ios', 'aqb', 'assign_line_of_credit',\n",
       "       ...\n",
       "       'total_principal_pending', 'total_unreliable_imei',\n",
       "       'twelve_month_sum_emi_overall', 'twelve_month_sum_overdue_overall',\n",
       "       'user_created_at', 'verified_email', 'wiwo_ineligible_reason',\n",
       "       'write_off_amount', 'write_off_past_12months', 'r_rows'],\n",
       "      dtype='object', length=224)"
      ]
     },
     "execution_count": 74,
     "metadata": {},
     "output_type": "execute_result"
    }
   ],
   "source": [
    "#Importing Data\n",
    "All_data = pd.read_csv(\"Covid_data.csv\") \n",
    "print(len(All_data))\n",
    "All_data['r_rows'] =np.where((All_data['data_type'] =='Train') &(All_data['t_flag'] ==1) & (All_data['t_10'] ==0),0,1)\n",
    "All_data =All_data[All_data['r_rows'] ==1].reset_index(drop =True)\n",
    "All_data =All_data.dropna(subset=['t_flag'], axis =0).reset_index(drop =True)\n",
    "# List of columns \n",
    "All_data.columns"
   ]
  },
  {
   "cell_type": "code",
   "execution_count": 75,
   "metadata": {},
   "outputs": [
    {
     "data": {
      "text/plain": [
       "44162"
      ]
     },
     "execution_count": 75,
     "metadata": {},
     "output_type": "execute_result"
    }
   ],
   "source": [
    "len(All_data)"
   ]
  },
  {
   "cell_type": "code",
   "execution_count": 76,
   "metadata": {},
   "outputs": [
    {
     "data": {
      "text/plain": [
       "0        2020-03-12\n",
       "1        2020-03-14\n",
       "2        2020-03-13\n",
       "3        2020-03-16\n",
       "4        2020-03-12\n",
       "            ...    \n",
       "44157    2020-03-21\n",
       "44158    2020-03-21\n",
       "44159    2020-03-21\n",
       "44160    2020-03-21\n",
       "44161    2020-03-21\n",
       "Name: disbursement_date, Length: 44162, dtype: object"
      ]
     },
     "execution_count": 76,
     "metadata": {},
     "output_type": "execute_result"
    }
   ],
   "source": [
    "# len(All_data)\n",
    "All_data['disbursement_date']"
   ]
  },
  {
   "cell_type": "code",
   "execution_count": 77,
   "metadata": {},
   "outputs": [
    {
     "name": "stdout",
     "output_type": "stream",
     "text": [
      "(44162, 224)\n"
     ]
    }
   ],
   "source": [
    "# List of numeric columns that will be used in model\n",
    "print(All_data.shape)\n",
    "useful_cols = ['avg_12_4_debit_count',\n",
    "'avg_3_mon_income',\n",
    "'avg_3_month_bounce_count',\n",
    "'avg_6_mon_income',\n",
    "'avg_6_month_bounce_count',\n",
    "'avg_9_12_debit_amount',\n",
    "'avg_9_12_debit_count',\n",
    "'avg_9_12_debit_amount_per_count',\n",
    "'avg_balance_3_month',\n",
    "'avg_balance_6_month',\n",
    "'avg_cashwithdrawl_6_month',\n",
    "'avg_cc_spend_count',\n",
    "'avg_diff_credit_debit',\n",
    "'count_loan_overdues',\n",
    "'count_loan_overdues_1m',\n",
    "'count_name_match',\n",
    "'data_type',\n",
    "'credit_sum_avg',\n",
    "'debit_sum_avg',\n",
    "'diff_credit_debit',\n",
    "'estimated_income_v2',\n",
    "'kreditb_loan_approval_before_fa',\n",
    "'kreditb_loan_overdue_before_fa',\n",
    "'kreditbee_sum_paid_loans',\n",
    "'last_mon_12_4_debit_count',\n",
    "'last_mon_9_12_debit_amount',\n",
    "'last_mon_income',\n",
    "'last_month_bounce_count',\n",
    "'loan_overdues',\n",
    "'loan_overdues_1m',\n",
    "'month_of_max_balance',\n",
    "'number_of_application',\n",
    "'number_of_devices_2w',\n",
    "'primary_bank_avg_balance',\n",
    "'primary_bank_avg_balance_3_mon',\n",
    "'primary_bank_avg_balance_6_mon',\n",
    "'primary_bank_max_balance',\n",
    "'primary_bank_mon_max_balance',\n",
    "'six_mon_avg_12_4_debit_count',\n",
    "'total_contacts',\n",
    "'total_credit_count',\n",
    "'total_debit_count',\n",
    "'total_income',              \n",
    "'total_loan_approval_before_fa',\n",
    "'total_loan_rejected',\n",
    "'total_unreliable_imei',\n",
    "'avg_six_monthly_emi',\n",
    "'avg_three_monthly_emi',\n",
    "'avg_twelve_monthly_emi',\n",
    "'customer_first_name_messages',\n",
    "'last_month_count_loans_overall',\n",
    "'last_month_count_loans_pl',\n",
    "'last_month_max_overall',\n",
    "'last_month_max_pl',\n",
    "'last_six_month_count_loans_pl',\n",
    "'last_six_month_max_overall',\n",
    "'last_six_month_max_pl',\n",
    "'last_three_month_count_loans_pl',\n",
    "'last_three_month_max_overall',\n",
    "'last_three_month_max_pl',\n",
    "'last_twelve_month_count_loans_pl',\n",
    "'last_twelve_month_max_overall',\n",
    "'last_twelve_month_max_pl',\n",
    "'six_month_sum_emi_overall',\n",
    "'six_month_sum_overdue_overall',\n",
    "'three_month_sum_emi_overall',\n",
    "'three_month_sum_overdue_overall',\n",
    "'three_months_emi_sum_pl',\n",
    "'twelve_month_sum_emi_overall',\n",
    "'twelve_month_sum_overdue_overall',\n",
    "'is_wonderland',\n",
    "'age',\n",
    "'t_flag',\n",
    "'device_present_age_in_days',\n",
    "'is_digiscore_reliable',\n",
    "'kissht_user_id']"
   ]
  },
  {
   "cell_type": "code",
   "execution_count": 78,
   "metadata": {},
   "outputs": [
    {
     "name": "stdout",
     "output_type": "stream",
     "text": [
      "Merchant_City              object\n",
      "app_downloaded_android     object\n",
      "app_downloaded_ios         object\n",
      "aqb                        object\n",
      "assign_line_of_credit      object\n",
      "                            ...  \n",
      "user_created_at            object\n",
      "verified_email             object\n",
      "wiwo_ineligible_reason     object\n",
      "write_off_amount           object\n",
      "write_off_past_12months    object\n",
      "Length: 111, dtype: object\n"
     ]
    }
   ],
   "source": [
    "# list of object columns (Check that any column which should have been numeric but is an object )\n",
    "print(All_data.dtypes[All_data.dtypes==np.object])\n",
    "All_data = All_data[useful_cols]\n",
    "#All_data = All_data.replace(to_replace=\"#NAME?\", value = None)"
   ]
  },
  {
   "cell_type": "code",
   "execution_count": 79,
   "metadata": {},
   "outputs": [],
   "source": [
    "numeric_cols = [\n",
    "'avg_12_4_debit_count',\n",
    "'avg_3_mon_income',\n",
    "'avg_3_month_bounce_count',\n",
    "'avg_6_mon_income',\n",
    "'avg_6_month_bounce_count',\n",
    "'avg_9_12_debit_amount',\n",
    "'avg_9_12_debit_count',\n",
    "'avg_9_12_debit_amount_per_count',\n",
    "'avg_balance_3_month',\n",
    "'avg_balance_6_month',\n",
    "'avg_cashwithdrawl_6_month',\n",
    "'avg_cc_spend_count',\n",
    "'avg_diff_credit_debit',\n",
    "'count_loan_overdues',\n",
    "'count_loan_overdues_1m',  \n",
    "'count_name_match',\n",
    "'credit_sum_avg',\n",
    "'debit_sum_avg',\n",
    "'diff_credit_debit',\n",
    "'estimated_income_v2',\n",
    "'kreditb_loan_approval_before_fa',\n",
    "'kreditb_loan_overdue_before_fa',\n",
    "'kreditbee_sum_paid_loans',\n",
    "'last_mon_12_4_debit_count',\n",
    "'last_mon_9_12_debit_amount',\n",
    "'last_mon_income',\n",
    "'last_month_bounce_count',\n",
    "'loan_overdues',\n",
    "'loan_overdues_1m',\n",
    "'month_of_max_balance',\n",
    "'number_of_application',\n",
    "'number_of_devices_2w',\n",
    "'primary_bank_avg_balance',\n",
    "'primary_bank_avg_balance_3_mon',\n",
    "'primary_bank_avg_balance_6_mon',\n",
    "'primary_bank_max_balance',\n",
    "'primary_bank_mon_max_balance',\n",
    "'six_mon_avg_12_4_debit_count',\n",
    "'total_contacts',\n",
    "'total_credit_count',\n",
    "'total_debit_count',\n",
    "'total_income',\n",
    "'total_loan_approval_before_fa',\n",
    "'total_loan_rejected',\n",
    "'total_unreliable_imei',\n",
    "'avg_six_monthly_emi',\n",
    "'avg_three_monthly_emi',\n",
    "'avg_twelve_monthly_emi',\n",
    "'customer_first_name_messages',\n",
    "'last_month_count_loans_overall',\n",
    "'last_month_count_loans_pl',\n",
    "'last_month_max_overall',\n",
    "'last_month_max_pl',\n",
    "'last_six_month_count_loans_pl',\n",
    "'last_six_month_max_overall',\n",
    "'last_six_month_max_pl',\n",
    "'last_three_month_count_loans_pl',\n",
    "'last_three_month_max_overall',\n",
    "'last_three_month_max_pl',\n",
    "'last_twelve_month_count_loans_pl',\n",
    "'last_twelve_month_max_overall',\n",
    "'last_twelve_month_max_pl',\n",
    "'six_month_sum_emi_overall',\n",
    "'six_month_sum_overdue_overall',\n",
    "'three_month_sum_emi_overall',\n",
    "'three_month_sum_overdue_overall',\n",
    "'three_months_emi_sum_pl',\n",
    "'twelve_month_sum_emi_overall',\n",
    "'twelve_month_sum_overdue_overall',\n",
    "'is_wonderland',\n",
    "'age',\n",
    "'device_present_age_in_days',\n",
    "'is_digiscore_reliable']"
   ]
  },
  {
   "cell_type": "code",
   "execution_count": 80,
   "metadata": {},
   "outputs": [],
   "source": [
    "# Remving t_10 column (as the numric columns will be used for training data )\n",
    "All_data[numeric_cols] =All_data[numeric_cols].apply(pd.to_numeric, errors ='coerce')\n",
    "All_data[numeric_cols] =All_data[numeric_cols].fillna(0)"
   ]
  },
  {
   "cell_type": "code",
   "execution_count": 81,
   "metadata": {},
   "outputs": [
    {
     "name": "stdout",
     "output_type": "stream",
     "text": [
      "(24409, 74)\n",
      "(12022, 74)\n",
      "(7731, 74)\n"
     ]
    }
   ],
   "source": [
    "Data_train =All_data[All_data[\"data_type\"]==\"Train\"]\n",
    "Data_test =All_data[All_data[\"data_type\"]==\"Test\"]\n",
    "Data_OOT =All_data[All_data[\"data_type\"]==\"OOT\"]\n",
    "# Data_OOT2 =All_data[All_data[\"tran_test_val_tag\"]==\"OOT2\"]\n",
    "Data_train_user_ids = Data_train[\"kissht_user_id\"]\n",
    "Data_test_user_ids = Data_test[\"kissht_user_id\"]\n",
    "Data_OOT_user_ids = Data_OOT[\"kissht_user_id\"]\n",
    "# Data_OOT2_user_ids = Data_OOT2[\"kissht_user_id\"]\n",
    "Data_test =Data_test.drop([\"kissht_user_id\",\"data_type\"], axis=1)\n",
    "Data_train =Data_train.drop([\"kissht_user_id\",\"data_type\"], axis=1)\n",
    "Data_OOT =Data_OOT.drop([\"kissht_user_id\",\"data_type\"], axis=1)\n",
    "# Data_OOT2 =Data_OOT2.drop([\"kissht_user_id\",\"data_type\"], axis=1)\n",
    "print(Data_train.shape)\n",
    "print(Data_test.shape)\n",
    "print(Data_OOT.shape)\n",
    "# print(Data_OOT2.shape)"
   ]
  },
  {
   "cell_type": "markdown",
   "metadata": {},
   "source": [
    " # PRE MODEL BUILDING ANALYSIS \n",
    " \n",
    "<br> Pre-Model Building Analysis is the data analysis to check the population variance and distribution thorughout the data set \n",
    "1. **CSI** **(charterstics stabability index)** \n",
    "<br>i) It is value that is estimated for the variables for train_test and train_oot. \n",
    "<br>ii) CSI greater 0.2 indicates unstablility of variable and below 0.1 is stability\n",
    "<br>iii) CSI is estimated by using PSI (https://www.listendata.com/2015/05/population-stability-index.html) for charterstics \n",
    "2. **Count of NA's / Zero distribution**\n",
    "<br>i) The distribution NA's and zero is important for checking data sanity.\n",
    "<br>ii) Here we estimated the number of NA's/ Zero in train , test and oot.\n",
    "<br>iii)As a thumb rule the difference between train, test and oot should'nt be more than 15%. \n",
    "2. **Basic statistics**\n",
    "<br>i) It basically includes mean , standard deviation, median , quartiles\n",
    "<br>ii) Here we estimate and compare the basic statistics between train , test and oot.\n"
   ]
  },
  {
   "cell_type": "code",
   "execution_count": 82,
   "metadata": {},
   "outputs": [],
   "source": [
    "# CSI\n",
    "def variable_csi(df1,df2,variable,bins):\n",
    "        \n",
    "        quntiles = df1.quantile(list(np.array(range(0,105,int(100/bins)))/100), axis = 0)\n",
    "        quant_list = sorted(list(set(list(quntiles[variable].values))))  # Remove duplicate quntiles\n",
    "        labels = list(range(1,len(quant_list)))\n",
    "        distiribution_1 = np.array(pd.cut(x=df1[variable], bins=quant_list, labels=labels).value_counts(sort=False))/df1.shape[0]\n",
    "        distiribution_2 = np.array(pd.cut(x=df2[variable], bins=quant_list, labels=labels).value_counts(sort=False))/df2.shape[0]\n",
    "        diff_distribution = distiribution_1 - distiribution_2\n",
    "        log_div_distribution = np.log(distiribution_1/distiribution_2)\n",
    "        psi_dist = diff_distribution*log_div_distribution\n",
    "        csi = str(np.sum(psi_dist))\n",
    "        \n",
    "        CSI = pd.DataFrame()\n",
    "        CSI['n_tiles'] = labels\n",
    "        CSI['score_bands'] = quant_list[1:]\n",
    "        CSI['array_1'] = distiribution_1\n",
    "        CSI['array_2'] = distiribution_2\n",
    "        CSI['diff_array1_array_2'] = diff_distribution\n",
    "        CSI['log_div_distribution'] = log_div_distribution\n",
    "        CSI['Index'] = psi_dist\n",
    "        CSI['csi'] = str(np.sum(psi_dist))\n",
    "        CSI['Var'] = variable\n",
    "        \n",
    "        return CSI\n",
    "\n",
    "train_test = pd.DataFrame()\n",
    "for column in list(Data_train.columns):\n",
    "    csis = variable_csi(Data_train,Data_test,column,20)\n",
    "    train_test = train_test.append(csis,ignore_index=True)\n",
    "\n",
    "#train_test.to_csv(\"C:/Users/Shawn/Downloads/Variable_wise_CSI_distribution_train_test.csv\",index=False)\n",
    "\n",
    "train_oot = pd.DataFrame()\n",
    "for column in list(Data_train.columns):\n",
    "    csis = variable_csi(Data_train,Data_OOT,column,20)\n",
    "    train_oot = train_oot.append(csis,ignore_index=True)\n",
    "\n",
    "#train_oot.to_csv(\"C:/Users/Shawn/Downloads/Variable_wise_CSI_distribution_train_oot.csv\",index=False)"
   ]
  },
  {
   "cell_type": "code",
   "execution_count": 83,
   "metadata": {},
   "outputs": [],
   "source": [
    "# column"
   ]
  },
  {
   "cell_type": "code",
   "execution_count": 84,
   "metadata": {},
   "outputs": [],
   "source": [
    "# Count of zero\n",
    "def count_zero_na_empty_values(input_data_1,input_data_2, input_data_3):\n",
    "    selected_columns = input_data_1.columns\n",
    "    \n",
    "    input_data_1 =input_data_1[selected_columns].apply(pd.to_numeric, errors ='coerce')\n",
    "    input_data_2 =input_data_2[selected_columns].apply(pd.to_numeric, errors ='coerce')\n",
    "    input_data_3 =input_data_3[selected_columns].apply(pd.to_numeric, errors ='coerce')\n",
    "    \n",
    "    input_data_1 =input_data_1.fillna(0) \n",
    "    input_data_2 =input_data_2.fillna(0)\n",
    "    input_data_3 =input_data_3.fillna(0)\n",
    "    \n",
    "    df =pd.DataFrame()\n",
    "    \n",
    "    for col_values in selected_columns:\n",
    "        count_of_zero_na_null_values_1=len(input_data_1[input_data_1[col_values] == 0.0])\n",
    "        count_of_zero_na_null_values_2 =len(input_data_2[input_data_2[col_values] == 0.0])\n",
    "        count_of_zero_na_null_values_3 =len(input_data_3[input_data_3[col_values] == 0.0])\n",
    "        \n",
    "        percent_of_zero_na_null_values_1=len(input_data_1[input_data_1[col_values] == 0.0])*100/len(input_data_1)\n",
    "        percent_of_zero_na_null_values_2 =len(input_data_2[input_data_2[col_values] == 0.0])*100/len(input_data_2)\n",
    "        percent_of_zero_na_null_values_3 =len(input_data_3[input_data_3[col_values] == 0.0])*100/len(input_data_3)\n",
    "        \n",
    "        df =df.append({'variable_name': col_values, \n",
    "                       'train_count_na/zero': count_of_zero_na_null_values_1,\n",
    "                       'test_count_na/zero': count_of_zero_na_null_values_2,\n",
    "                       'oot_count_na/zero': count_of_zero_na_null_values_3,\n",
    "                      'train_percent_na/zero': percent_of_zero_na_null_values_1,\n",
    "                       'test_percent_na/zero': percent_of_zero_na_null_values_2,\n",
    "                      'oot_percent_na/zero': percent_of_zero_na_null_values_3},\n",
    "                      ignore_index =True)\n",
    "        \n",
    "    \n",
    "    \n",
    "    #df=df.sort_values(['Difference'], ascending =False)\n",
    "\n",
    "    return(df)\n",
    "    "
   ]
  },
  {
   "cell_type": "code",
   "execution_count": 85,
   "metadata": {},
   "outputs": [],
   "source": [
    "#basic_statistics\n",
    "def basic_statistics(df_train, df_test, df_oot):\n",
    "    \n",
    "    train_stat =df_train.describe().T\n",
    "    test_stat =df_test.describe().T\n",
    "    oot_stat =df_oot.describe().T\n",
    "    \n",
    "    train_stat.columns =train_stat.columns +str('train_')\n",
    "    test_stat.columns = test_stat.columns +str('test_')\n",
    "    oot_stat.columns = oot_stat.columns +str('oot_')\n",
    "    \n",
    "    basic_stat =pd.concat([train_stat,test_stat,oot_stat], axis =1)\n",
    "    return(basic_stat)\n",
    "\n",
    "basic_statistics_train_test_oot =basic_statistics(Data_train, Data_test, Data_OOT)\n"
   ]
  },
  {
   "cell_type": "code",
   "execution_count": 86,
   "metadata": {},
   "outputs": [],
   "source": [
    "# PRE ANALYSIS Report\n",
    "writer = pd.ExcelWriter('PRE_ANALYSIS.xlsx', engine='xlsxwriter')\n",
    "train_test.to_excel(writer, sheet_name='Variable_CSI_train_test', index=False)\n",
    "train_oot.to_excel(writer, sheet_name='Variable_CSI_train_oot', index=False)\n",
    "count_zero_na_empty_values(Data_train,Data_test,Data_OOT).to_excel(writer, sheet_name='PERCENT_ZEROS', index=False)\n",
    "basic_statistics_train_test_oot[basic_statistics_train_test_oot.columns.sort_values()].to_excel(writer, sheet_name='Basic_Statistics')\n",
    "\n",
    "writer.save()\n",
    "writer.close()"
   ]
  },
  {
   "cell_type": "code",
   "execution_count": 87,
   "metadata": {},
   "outputs": [],
   "source": [
    "Data_train_user_ids.to_csv('Data_train_user_ids.csv', index=False)\n",
    "Data_test_user_ids.to_csv('Data_test_user_ids.csv', index=False)\n",
    "Data_OOT_user_ids.to_csv('Data_OOT_user_ids.csv', index=False)"
   ]
  },
  {
   "cell_type": "markdown",
   "metadata": {},
   "source": [
    "# XGBoost Model \n",
    "\n",
    "Here we train and create a inital set of model were we using all variables for training.Here we extract the top 30/20 variables that will be further used to create the final model \n",
    "\n",
    "1. **Hyper** **parameter** **grid** **search**\n",
    "<br>i) We estimate the best parameteres for Xgboost using  random grid search ( optimization search) and based on startified k-fold validation\n",
    "2. **Top 30 variable selection**\n",
    "<br> We select top 30 variables using total_gain for the model from variables.\n"
   ]
  },
  {
   "cell_type": "code",
   "execution_count": 88,
   "metadata": {},
   "outputs": [],
   "source": [
    "from xgboost import XGBClassifier\n",
    "import xgboost as xgb \n",
    "from sklearn.metrics import accuracy_score"
   ]
  },
  {
   "cell_type": "code",
   "execution_count": 89,
   "metadata": {},
   "outputs": [
    {
     "name": "stdout",
     "output_type": "stream",
     "text": [
      "(24409, 74)\n",
      "(24409, 73)\n",
      "Index(['avg_12_4_debit_count', 'avg_3_mon_income', 'avg_3_month_bounce_count',\n",
      "       'avg_6_mon_income', 'avg_6_month_bounce_count', 'avg_9_12_debit_amount',\n",
      "       'avg_9_12_debit_count', 'avg_9_12_debit_amount_per_count',\n",
      "       'avg_balance_3_month', 'avg_balance_6_month',\n",
      "       'avg_cashwithdrawl_6_month', 'avg_cc_spend_count',\n",
      "       'avg_diff_credit_debit', 'count_loan_overdues',\n",
      "       'count_loan_overdues_1m', 'count_name_match', 'credit_sum_avg',\n",
      "       'debit_sum_avg', 'diff_credit_debit', 'estimated_income_v2',\n",
      "       'kreditb_loan_approval_before_fa', 'kreditb_loan_overdue_before_fa',\n",
      "       'kreditbee_sum_paid_loans', 'last_mon_12_4_debit_count',\n",
      "       'last_mon_9_12_debit_amount', 'last_mon_income',\n",
      "       'last_month_bounce_count', 'loan_overdues', 'loan_overdues_1m',\n",
      "       'month_of_max_balance', 'number_of_application', 'number_of_devices_2w',\n",
      "       'primary_bank_avg_balance', 'primary_bank_avg_balance_3_mon',\n",
      "       'primary_bank_avg_balance_6_mon', 'primary_bank_max_balance',\n",
      "       'primary_bank_mon_max_balance', 'six_mon_avg_12_4_debit_count',\n",
      "       'total_contacts', 'total_credit_count', 'total_debit_count',\n",
      "       'total_income', 'total_loan_approval_before_fa', 'total_loan_rejected',\n",
      "       'total_unreliable_imei', 'avg_six_monthly_emi', 'avg_three_monthly_emi',\n",
      "       'avg_twelve_monthly_emi', 'customer_first_name_messages',\n",
      "       'last_month_count_loans_overall', 'last_month_count_loans_pl',\n",
      "       'last_month_max_overall', 'last_month_max_pl',\n",
      "       'last_six_month_count_loans_pl', 'last_six_month_max_overall',\n",
      "       'last_six_month_max_pl', 'last_three_month_count_loans_pl',\n",
      "       'last_three_month_max_overall', 'last_three_month_max_pl',\n",
      "       'last_twelve_month_count_loans_pl', 'last_twelve_month_max_overall',\n",
      "       'last_twelve_month_max_pl', 'six_month_sum_emi_overall',\n",
      "       'six_month_sum_overdue_overall', 'three_month_sum_emi_overall',\n",
      "       'three_month_sum_overdue_overall', 'three_months_emi_sum_pl',\n",
      "       'twelve_month_sum_emi_overall', 'twelve_month_sum_overdue_overall',\n",
      "       'is_wonderland', 'age', 'device_present_age_in_days',\n",
      "       'is_digiscore_reliable'],\n",
      "      dtype='object')\n"
     ]
    }
   ],
   "source": [
    "y_train =Data_train[\"t_flag\"]\n",
    "x_train =Data_train[numeric_cols].fillna(0)\n",
    "#test data\n",
    "y_test =Data_test[\"t_flag\"]\n",
    "x_test =Data_test[numeric_cols].fillna(0)\n",
    "#Out of Time\n",
    "y_oot =Data_OOT[\"t_flag\"]\n",
    "x_oot =Data_OOT[numeric_cols].fillna(0)\n",
    "##Out of Time2\n",
    "#y_oot2 =Data_OOT2[\"t_10\"]\n",
    "#x_oot2 =Data_OOT2[numeric_cols].fillna(0)\n",
    "print(Data_train.shape)\n",
    "print(x_train.shape)\n",
    "print(x_train.columns)"
   ]
  },
  {
   "cell_type": "code",
   "execution_count": 90,
   "metadata": {},
   "outputs": [],
   "source": [
    "# list(x_train.dtypes)"
   ]
  },
  {
   "cell_type": "code",
   "execution_count": 91,
   "metadata": {},
   "outputs": [
    {
     "data": {
      "text/plain": [
       "['avg_12_4_debit_count',\n",
       " 'avg_3_mon_income',\n",
       " 'avg_3_month_bounce_count',\n",
       " 'avg_6_mon_income',\n",
       " 'avg_6_month_bounce_count',\n",
       " 'avg_9_12_debit_amount',\n",
       " 'avg_9_12_debit_count',\n",
       " 'avg_9_12_debit_amount_per_count',\n",
       " 'avg_balance_3_month',\n",
       " 'avg_balance_6_month',\n",
       " 'avg_cashwithdrawl_6_month',\n",
       " 'avg_cc_spend_count',\n",
       " 'avg_diff_credit_debit',\n",
       " 'count_loan_overdues',\n",
       " 'count_loan_overdues_1m',\n",
       " 'count_name_match',\n",
       " 'credit_sum_avg',\n",
       " 'debit_sum_avg',\n",
       " 'diff_credit_debit',\n",
       " 'estimated_income_v2',\n",
       " 'kreditb_loan_approval_before_fa',\n",
       " 'kreditb_loan_overdue_before_fa',\n",
       " 'kreditbee_sum_paid_loans',\n",
       " 'last_mon_12_4_debit_count',\n",
       " 'last_mon_9_12_debit_amount',\n",
       " 'last_mon_income',\n",
       " 'last_month_bounce_count',\n",
       " 'loan_overdues',\n",
       " 'loan_overdues_1m',\n",
       " 'month_of_max_balance',\n",
       " 'number_of_application',\n",
       " 'number_of_devices_2w',\n",
       " 'primary_bank_avg_balance',\n",
       " 'primary_bank_avg_balance_3_mon',\n",
       " 'primary_bank_avg_balance_6_mon',\n",
       " 'primary_bank_max_balance',\n",
       " 'primary_bank_mon_max_balance',\n",
       " 'six_mon_avg_12_4_debit_count',\n",
       " 'total_contacts',\n",
       " 'total_credit_count',\n",
       " 'total_debit_count',\n",
       " 'total_income',\n",
       " 'total_loan_approval_before_fa',\n",
       " 'total_loan_rejected',\n",
       " 'total_unreliable_imei',\n",
       " 'avg_six_monthly_emi',\n",
       " 'avg_three_monthly_emi',\n",
       " 'avg_twelve_monthly_emi',\n",
       " 'customer_first_name_messages',\n",
       " 'last_month_count_loans_overall',\n",
       " 'last_month_count_loans_pl',\n",
       " 'last_month_max_overall',\n",
       " 'last_month_max_pl',\n",
       " 'last_six_month_count_loans_pl',\n",
       " 'last_six_month_max_overall',\n",
       " 'last_six_month_max_pl',\n",
       " 'last_three_month_count_loans_pl',\n",
       " 'last_three_month_max_overall',\n",
       " 'last_three_month_max_pl',\n",
       " 'last_twelve_month_count_loans_pl',\n",
       " 'last_twelve_month_max_overall',\n",
       " 'last_twelve_month_max_pl',\n",
       " 'six_month_sum_emi_overall',\n",
       " 'six_month_sum_overdue_overall',\n",
       " 'three_month_sum_emi_overall',\n",
       " 'three_month_sum_overdue_overall',\n",
       " 'three_months_emi_sum_pl',\n",
       " 'twelve_month_sum_emi_overall',\n",
       " 'twelve_month_sum_overdue_overall',\n",
       " 'is_wonderland',\n",
       " 'age',\n",
       " 'device_present_age_in_days',\n",
       " 'is_digiscore_reliable']"
      ]
     },
     "execution_count": 91,
     "metadata": {},
     "output_type": "execute_result"
    }
   ],
   "source": [
    "numeric_cols"
   ]
  },
  {
   "cell_type": "code",
   "execution_count": 92,
   "metadata": {},
   "outputs": [
    {
     "name": "stdout",
     "output_type": "stream",
     "text": [
      "(24409, 73)\n",
      "(18306, 73)\n"
     ]
    }
   ],
   "source": [
    "x_train_v2, x_test_v2 , y_train_v2 , y_test_v2 =train_test_split(x_train, y_train, test_size =0.25)\n",
    "print(x_train.shape)\n",
    "print(x_train_v2.shape)\n"
   ]
  },
  {
   "cell_type": "code",
   "execution_count": 93,
   "metadata": {},
   "outputs": [],
   "source": [
    "# A parameter grid for XGBoost\n",
    "params = {\n",
    "        'min_child_weight': [30,40,50,60],\n",
    "        'learning_rate': [0.01,0.02,0.03,0.04,0.05,0.06],\n",
    "        'gamma': [4, 5, 5.5, 6],\n",
    "        'subsample': [0.8, 0.9, 1.0],\n",
    "        'colsample_bytree': [0.4,0.5,0.6, 0.7, 0.8, 0.9, 1.0],\n",
    "        'max_depth': [4, 5, 6, 7],\n",
    "        'n_estimators':[50,100,200,250,300,400]\n",
    "        }"
   ]
  },
  {
   "cell_type": "code",
   "execution_count": 94,
   "metadata": {},
   "outputs": [],
   "source": [
    "xgb = XGBClassifier(learning_rate=0.03, objective='binary:logistic',tree_method ='exact',\n",
    "                    silent=True, nthread=1)"
   ]
  },
  {
   "cell_type": "markdown",
   "metadata": {},
   "source": [
    "**Hyperparameter** **Grid** **Search**"
   ]
  },
  {
   "cell_type": "code",
   "execution_count": 95,
   "metadata": {},
   "outputs": [],
   "source": [
    "def timer(start_time=None):\n",
    "    if not start_time:\n",
    "        start_time = datetime.now()\n",
    "        return start_time\n",
    "    elif start_time:\n",
    "        thour, temp_sec = divmod((datetime.now() - start_time).total_seconds(), 3600)\n",
    "        tmin, tsec = divmod(temp_sec, 60)\n",
    "        print('\\n Time taken: %i hours %i minutes and %s seconds.' % (thour, tmin, round(tsec, 2)))"
   ]
  },
  {
   "cell_type": "code",
   "execution_count": 96,
   "metadata": {},
   "outputs": [
    {
     "name": "stdout",
     "output_type": "stream",
     "text": [
      "Fitting 5 folds for each of 5 candidates, totalling 25 fits\n"
     ]
    },
    {
     "name": "stderr",
     "output_type": "stream",
     "text": [
      "[Parallel(n_jobs=-1)]: Using backend LokyBackend with 8 concurrent workers.\n",
      "[Parallel(n_jobs=-1)]: Done  19 out of  25 | elapsed:  2.3min remaining:   43.4s\n",
      "[Parallel(n_jobs=-1)]: Done  25 out of  25 | elapsed: 43.8min finished\n"
     ]
    },
    {
     "name": "stdout",
     "output_type": "stream",
     "text": [
      "\n",
      " Time taken: 0 hours 44 minutes and 7.37 seconds.\n"
     ]
    }
   ],
   "source": [
    "folds = 5\n",
    "param_comb = 5\n",
    "\n",
    "skf = StratifiedKFold(n_splits=folds, shuffle = False, random_state = 42)\n",
    "\n",
    "random_search = RandomizedSearchCV(xgb, param_distributions=params, n_iter=param_comb, scoring='roc_auc', n_jobs=-1, cv=skf.split(x_train_v2, y_train_v2), verbose=3, random_state=42)\n",
    "\n",
    "start_time = timer(None) # timing starts from this point for \"start_time\" variable\n",
    "random_search.fit(x_train_v2, y_train_v2)\n",
    "timer(start_time) # timing ends here for \"start_time\" variable"
   ]
  },
  {
   "cell_type": "code",
   "execution_count": 97,
   "metadata": {},
   "outputs": [
    {
     "name": "stdout",
     "output_type": "stream",
     "text": [
      "\n",
      " All results:\n",
      "{'mean_fit_time': array([47.85669456, 44.47514238, 85.66282916, 12.3730093 , 42.75736547]), 'std_fit_time': array([0.34430225, 2.17616563, 0.97690561, 0.44894789, 6.48521703]), 'mean_score_time': array([0.1428411 , 0.18222375, 0.1750483 , 0.04406404, 0.11489382]), 'std_score_time': array([0.00649412, 0.02483981, 0.02023162, 0.00567051, 0.04709092]), 'param_subsample': masked_array(data=[0.8, 1.0, 0.9, 1.0, 0.9],\n",
      "             mask=[False, False, False, False, False],\n",
      "       fill_value='?',\n",
      "            dtype=object), 'param_n_estimators': masked_array(data=[250, 300, 400, 50, 400],\n",
      "             mask=[False, False, False, False, False],\n",
      "       fill_value='?',\n",
      "            dtype=object), 'param_min_child_weight': masked_array(data=[40, 60, 60, 40, 50],\n",
      "             mask=[False, False, False, False, False],\n",
      "       fill_value='?',\n",
      "            dtype=object), 'param_max_depth': masked_array(data=[7, 7, 5, 5, 4],\n",
      "             mask=[False, False, False, False, False],\n",
      "       fill_value='?',\n",
      "            dtype=object), 'param_learning_rate': masked_array(data=[0.01, 0.03, 0.01, 0.06, 0.04],\n",
      "             mask=[False, False, False, False, False],\n",
      "       fill_value='?',\n",
      "            dtype=object), 'param_gamma': masked_array(data=[5, 4, 5.5, 5, 5.5],\n",
      "             mask=[False, False, False, False, False],\n",
      "       fill_value='?',\n",
      "            dtype=object), 'param_colsample_bytree': masked_array(data=[0.6, 0.4, 0.9, 1.0, 0.5],\n",
      "             mask=[False, False, False, False, False],\n",
      "       fill_value='?',\n",
      "            dtype=object), 'params': [{'subsample': 0.8, 'n_estimators': 250, 'min_child_weight': 40, 'max_depth': 7, 'learning_rate': 0.01, 'gamma': 5, 'colsample_bytree': 0.6}, {'subsample': 1.0, 'n_estimators': 300, 'min_child_weight': 60, 'max_depth': 7, 'learning_rate': 0.03, 'gamma': 4, 'colsample_bytree': 0.4}, {'subsample': 0.9, 'n_estimators': 400, 'min_child_weight': 60, 'max_depth': 5, 'learning_rate': 0.01, 'gamma': 5.5, 'colsample_bytree': 0.9}, {'subsample': 1.0, 'n_estimators': 50, 'min_child_weight': 40, 'max_depth': 5, 'learning_rate': 0.06, 'gamma': 5, 'colsample_bytree': 1.0}, {'subsample': 0.9, 'n_estimators': 400, 'min_child_weight': 50, 'max_depth': 4, 'learning_rate': 0.04, 'gamma': 5.5, 'colsample_bytree': 0.5}], 'split0_test_score': array([0.63679418, 0.6377054 , 0.63824618, 0.63346159, 0.63823984]), 'split1_test_score': array([0.63540741, 0.6350548 , 0.63731774, 0.63347352, 0.63843329]), 'split2_test_score': array([0.63342885, 0.63680976, 0.63186856, 0.63244194, 0.63454524]), 'split3_test_score': array([0.63753242, 0.64363503, 0.63754224, 0.63217572, 0.64207595]), 'split4_test_score': array([0.65644136, 0.65355077, 0.65655202, 0.65368895, 0.65579294]), 'mean_test_score': array([0.63991952, 0.64134994, 0.64030419, 0.63704705, 0.64181631]), 'std_test_score': array([0.00837663, 0.00674638, 0.00843619, 0.0083358 , 0.00738182]), 'rank_test_score': array([4, 2, 3, 5, 1])}\n",
      "\n",
      " Best estimator:\n",
      "XGBClassifier(base_score=0.5, booster='gbtree', colsample_bylevel=1,\n",
      "              colsample_bynode=1, colsample_bytree=0.5, gamma=5.5,\n",
      "              learning_rate=0.04, max_delta_step=0, max_depth=4,\n",
      "              min_child_weight=50, missing=None, n_estimators=400, n_jobs=1,\n",
      "              nthread=1, objective='binary:logistic', random_state=0,\n",
      "              reg_alpha=0, reg_lambda=1, scale_pos_weight=1, seed=None,\n",
      "              silent=True, subsample=0.9, tree_method='exact', verbosity=1)\n",
      "\n",
      " Best AUC\n",
      "0.6418163084178171\n",
      "\n",
      " Best normalized gini score for 5-fold search with 5 parameter combinations:\n",
      "0.28363261683563423\n",
      "\n",
      " Best hyperparameters:\n",
      "{'subsample': 0.9, 'n_estimators': 400, 'min_child_weight': 50, 'max_depth': 4, 'learning_rate': 0.04, 'gamma': 5.5, 'colsample_bytree': 0.5}\n"
     ]
    }
   ],
   "source": [
    "print('\\n All results:')\n",
    "print(random_search.cv_results_)\n",
    "print('\\n Best estimator:')\n",
    "print(random_search.best_estimator_)\n",
    "print('\\n Best AUC')\n",
    "print(random_search.best_score_)\n",
    "print('\\n Best normalized gini score for %d-fold search with %d parameter combinations:' % (folds, param_comb))\n",
    "print(random_search.best_score_ * 2 - 1)\n",
    "print('\\n Best hyperparameters:')\n",
    "print(random_search.best_params_)\n",
    "results = pd.DataFrame(random_search.cv_results_)\n",
    "results.to_csv('xgb-random-grid-search-results-01.csv', index=False)"
   ]
  },
  {
   "cell_type": "code",
   "execution_count": 98,
   "metadata": {},
   "outputs": [],
   "source": [
    "#select the above model from Best estimator \n",
    "xgb_clf =XGBClassifier(base_score=0.5, booster='gbtree', colsample_bylevel=1,\n",
    "              colsample_bynode=1, colsample_bytree=0.5, gamma=5.5,\n",
    "              learning_rate=0.04, max_delta_step=0, max_depth=4,\n",
    "              min_child_weight=50, missing=None, n_estimators=400, n_jobs=1,\n",
    "              nthread=1, objective='binary:logistic', random_state=0,\n",
    "              reg_alpha=0, reg_lambda=1, scale_pos_weight=1, seed=None,\n",
    "              silent=True, subsample=0.9, tree_method='exact', verbosity=1)\n",
    "\n",
    "# xgb_clf1 = random_search.best_estimator_"
   ]
  },
  {
   "cell_type": "code",
   "execution_count": 99,
   "metadata": {},
   "outputs": [
    {
     "data": {
      "text/plain": [
       "XGBClassifier(base_score=0.5, booster='gbtree', colsample_bylevel=1,\n",
       "              colsample_bynode=1, colsample_bytree=0.5, gamma=5.5,\n",
       "              learning_rate=0.04, max_delta_step=0, max_depth=4,\n",
       "              min_child_weight=50, missing=None, n_estimators=400, n_jobs=1,\n",
       "              nthread=1, objective='binary:logistic', random_state=0,\n",
       "              reg_alpha=0, reg_lambda=1, scale_pos_weight=1, seed=None,\n",
       "              silent=True, subsample=0.9, tree_method='exact', verbosity=1)"
      ]
     },
     "execution_count": 99,
     "metadata": {},
     "output_type": "execute_result"
    }
   ],
   "source": [
    "xgb_clf.fit(x_train,y_train)"
   ]
  },
  {
   "cell_type": "code",
   "execution_count": 100,
   "metadata": {},
   "outputs": [
    {
     "name": "stdout",
     "output_type": "stream",
     "text": [
      "0.7095275195818062\n",
      "0.7122370199285055\n",
      "0.629006169766159\n",
      "0.617810785082628\n"
     ]
    }
   ],
   "source": [
    "# train, test and oot auc\n",
    "y_pro_train_v2 =xgb_clf.predict_proba(x_train_v2)[:, 1]\n",
    "train_pro_v2 =metrics.roc_auc_score(y_train_v2,y_pro_train_v2)\n",
    "print(train_pro_v2)\n",
    "y_pro_test_v2 =xgb_clf.predict_proba(x_test_v2)[:, 1]\n",
    "test_pro_v2 =metrics.roc_auc_score(y_test_v2,y_pro_test_v2)\n",
    "print(test_pro_v2)\n",
    "y_pro_test =xgb_clf.predict_proba(x_test)[:, 1]\n",
    "test_pro =metrics.roc_auc_score(y_test,y_pro_test)\n",
    "print(test_pro)\n",
    "y_pro_oot =xgb_clf.predict_proba(x_oot)[:, 1]\n",
    "oot_pro =metrics.roc_auc_score(y_oot, y_pro_oot)\n",
    "print(oot_pro)"
   ]
  },
  {
   "cell_type": "code",
   "execution_count": 101,
   "metadata": {},
   "outputs": [
    {
     "name": "stdout",
     "output_type": "stream",
     "text": [
      "t_flag\n",
      "0.0    0.445532\n",
      "1.0    0.554468\n",
      "Name: age, dtype: float64\n",
      "t_flag\n",
      "0.0    0.385127\n",
      "1.0    0.614873\n",
      "Name: age, dtype: float64\n",
      "t_flag\n",
      "0.0    0.4015\n",
      "1.0    0.5985\n",
      "Name: age, dtype: float64\n"
     ]
    }
   ],
   "source": [
    "print(Data_train.groupby(['t_flag'])['age'].count()/ (Data_train.groupby(['t_flag'])['age'].count()[1]+Data_train.groupby(['t_flag'])['age'].count()[0]))\n",
    "print(Data_test.groupby(['t_flag'])['age'].count()/ (Data_test.groupby(['t_flag'])['age'].count()[1]+Data_test.groupby(['t_flag'])['age'].count()[0]))\n",
    "print(Data_OOT.groupby(['t_flag'])['age'].count()/ (Data_OOT.groupby(['t_flag'])['age'].count()[1]+Data_OOT.groupby(['t_flag'])['age'].count()[0]))\n"
   ]
  },
  {
   "cell_type": "code",
   "execution_count": 102,
   "metadata": {},
   "outputs": [
    {
     "name": "stdout",
     "output_type": "stream",
     "text": [
      "                      feature  importance\n",
      "11        avg_cc_spend_count   50.972982\n",
      "0               total_income   30.584187\n",
      "12           last_mon_income   23.475118\n",
      "8           avg_6_mon_income   21.977959\n",
      "1             total_contacts   21.220134\n",
      "..                       ...         ...\n",
      "45     last_six_month_max_pl    6.667912\n",
      "70  kreditbee_sum_paid_loans    6.560516\n",
      "60     is_digiscore_reliable    6.131992\n",
      "62   three_months_emi_sum_pl    5.777320\n",
      "48             is_wonderland    5.635614\n",
      "\n",
      "[73 rows x 2 columns]\n"
     ]
    }
   ],
   "source": [
    "xgb_fea_imp=pd.DataFrame(list(xgb_clf.get_booster().get_score(importance_type=\"gain\").items()),\n",
    "columns=['feature','importance']).sort_values('importance', ascending=False)\n",
    "print('',xgb_fea_imp)\n",
    "xgb_fea_imp.to_csv('xgb_fea_imp_digi_delinquent_gain.csv')"
   ]
  },
  {
   "cell_type": "code",
   "execution_count": 103,
   "metadata": {},
   "outputs": [
    {
     "name": "stdout",
     "output_type": "stream",
     "text": [
      "                            feature   importance\n",
      "56        avg_3_month_bounce_count  4321.705262\n",
      "57  kreditb_loan_overdue_before_fa  4312.827911\n",
      "11              avg_cc_spend_count  3895.206303\n",
      "60           is_digiscore_reliable  3691.214009\n",
      "59             total_loan_rejected  3373.143118\n",
      "..                             ...          ...\n",
      "42           avg_9_12_debit_amount  1173.176913\n",
      "46    twelve_month_sum_emi_overall  1042.959507\n",
      "68            number_of_devices_2w  1039.138764\n",
      "6             avg_12_4_debit_count   862.959211\n",
      "71   total_loan_approval_before_fa   473.011666\n",
      "\n",
      "[73 rows x 2 columns]\n"
     ]
    }
   ],
   "source": [
    "xgb_fea_imp=pd.DataFrame(list(xgb_clf.get_booster().get_score(importance_type=\"cover\").items()),\n",
    "columns=['feature','importance']).sort_values('importance', ascending=False)\n",
    "print('',xgb_fea_imp)\n",
    "xgb_fea_imp.to_csv('xgb_fea_imp_digi_delinquent_cover.csv')"
   ]
  },
  {
   "cell_type": "code",
   "execution_count": 104,
   "metadata": {},
   "outputs": [
    {
     "name": "stdout",
     "output_type": "stream",
     "text": [
      "                           feature   importance\n",
      "11             avg_cc_spend_count  3873.946618\n",
      "1                  total_contacts  2567.636180\n",
      "0                    total_income  2232.645654\n",
      "12                last_mon_income  2018.860187\n",
      "25   customer_first_name_messages  1739.978363\n",
      "..                            ...          ...\n",
      "71  total_loan_approval_before_fa    37.855554\n",
      "61      last_mon_12_4_debit_count    36.155596\n",
      "48                  is_wonderland    33.813684\n",
      "72            count_loan_overdues    20.264703\n",
      "68           number_of_devices_2w    16.758444\n",
      "\n",
      "[73 rows x 2 columns]\n"
     ]
    }
   ],
   "source": [
    "xgb_fea_imp=pd.DataFrame(list(xgb_clf.get_booster().get_score(importance_type=\"total_gain\").items()),\n",
    "columns=['feature','importance']).sort_values('importance', ascending=False)\n",
    "print('',xgb_fea_imp)\n",
    "xgb_fea_imp.to_csv('xgb_fea_imp_digi_delinquent_total_gain.csv')"
   ]
  },
  {
   "cell_type": "code",
   "execution_count": 105,
   "metadata": {},
   "outputs": [
    {
     "name": "stdout",
     "output_type": "stream",
     "text": [
      "                           feature  importance\n",
      "25   customer_first_name_messages         166\n",
      "23             total_credit_count         149\n",
      "4      device_present_age_in_days         129\n",
      "28          number_of_application         125\n",
      "1                  total_contacts         121\n",
      "..                            ...         ...\n",
      "48                  is_wonderland           6\n",
      "61      last_mon_12_4_debit_count           5\n",
      "71  total_loan_approval_before_fa           5\n",
      "72            count_loan_overdues           3\n",
      "68           number_of_devices_2w           2\n",
      "\n",
      "[73 rows x 2 columns]\n"
     ]
    }
   ],
   "source": [
    "xgb_fea_imp=pd.DataFrame(list(xgb_clf.get_booster().get_fscore().items()),\n",
    "columns=['feature','importance']).sort_values('importance', ascending=False)\n",
    "print('',xgb_fea_imp)\n",
    "xgb_fea_imp.to_csv('xgb_fea_imp_digi_delinquent_f_score.csv')"
   ]
  },
  {
   "cell_type": "code",
   "execution_count": 106,
   "metadata": {},
   "outputs": [
    {
     "name": "stdout",
     "output_type": "stream",
     "text": [
      "25        customer_first_name_messages\n",
      "23                  total_credit_count\n",
      "4           device_present_age_in_days\n",
      "28               number_of_application\n",
      "1                       total_contacts\n",
      "2                  avg_balance_3_month\n",
      "13                 avg_balance_6_month\n",
      "12                     last_mon_income\n",
      "53                                 age\n",
      "69     avg_9_12_debit_amount_per_count\n",
      "11                  avg_cc_spend_count\n",
      "0                         total_income\n",
      "14                 estimated_income_v2\n",
      "8                     avg_6_mon_income\n",
      "31          last_mon_9_12_debit_amount\n",
      "19              last_month_max_overall\n",
      "21                   total_debit_count\n",
      "49            primary_bank_max_balance\n",
      "15                    avg_3_mon_income\n",
      "10                avg_9_12_debit_count\n",
      "51              avg_twelve_monthly_emi\n",
      "43                    count_name_match\n",
      "55           avg_cashwithdrawl_6_month\n",
      "41      primary_bank_avg_balance_3_mon\n",
      "39                       debit_sum_avg\n",
      "5                       credit_sum_avg\n",
      "35                   diff_credit_debit\n",
      "65               avg_diff_credit_debit\n",
      "38       last_six_month_count_loans_pl\n",
      "7        last_twelve_month_max_overall\n",
      "42               avg_9_12_debit_amount\n",
      "59                 total_loan_rejected\n",
      "57      kreditb_loan_overdue_before_fa\n",
      "27            primary_bank_avg_balance\n",
      "9      three_month_sum_overdue_overall\n",
      "16    twelve_month_sum_overdue_overall\n",
      "20       six_month_sum_overdue_overall\n",
      "24                 avg_six_monthly_emi\n",
      "Name: feature, dtype: object\n"
     ]
    }
   ],
   "source": [
    "top_xgb_vars = xgb_fea_imp.feature[0:38]\n",
    "print(top_xgb_vars)"
   ]
  },
  {
   "cell_type": "markdown",
   "metadata": {},
   "source": [
    "###### Final Model with top 46 variables\n",
    "This will be our Final model. Here we use top 20/30 variables for creating the model. Following are the things to be noted while creation\n",
    "1. Data Preparation\n",
    "<br>i) We will be selecting top 20 varibales for training.Here one must take care to avoid substitute NA's ( in general it's zero).\n",
    "<br>ii)It is good practice to sorted columns in ascending order with their names and train the same\n",
    "2. Model Creating\n",
    "<br>i) We must avoid overfitting the model this can figured by checking the auc on train, test and oot. If the oot auc is much lower than training and testing then it is indication of overfitting.\n",
    "Overfitting can be reduced by reducing n_estimators (generally 300  for stable) or max_dept (generally 4 for stable)\n",
    "<br>ii) Normally the difference between the auc of train and oot is close to 0.4 but if the difference is more than 0.6 then their is either case of overfitting or the variables distribution in data type. The variable can be checked in PRE-ANALYSIS\n",
    " "
   ]
  },
  {
   "cell_type": "code",
   "execution_count": 107,
   "metadata": {},
   "outputs": [
    {
     "name": "stdout",
     "output_type": "stream",
     "text": [
      "44162\n",
      "(44162, 224)\n"
     ]
    }
   ],
   "source": [
    "Data_v1 =pd.read_csv(\"Covid_data.csv\")\n",
    "print(len(All_data))\n",
    "Data_v1['r_rows'] =np.where((Data_v1['data_type'] =='Train') &(Data_v1['t_flag'] ==1) & (Data_v1['t_10'] ==0),0,1)\n",
    "Data_v1 =Data_v1[Data_v1['r_rows'] ==1].reset_index(drop =True)\n",
    "Data_v1 = Data_v1.dropna(subset=['t_flag'], axis =0).reset_index(drop =True)\n",
    "Data_v1.columns = Data_v1.columns.str.replace(\".\",\"_\")\n",
    "Data_v1.columns = Data_v1.columns.str.lower()\n",
    "print(Data_v1.shape)"
   ]
  },
  {
   "cell_type": "code",
   "execution_count": 108,
   "metadata": {},
   "outputs": [],
   "source": [
    "retained_columns = ['kissht_user_id','t_flag','data_type']\n",
    "retained_columns.extend(top_xgb_vars)\n",
    "# Data_v1.rename(columns={'age': 'Age'},inplace = True)\n"
   ]
  },
  {
   "cell_type": "code",
   "execution_count": 109,
   "metadata": {},
   "outputs": [
    {
     "name": "stdout",
     "output_type": "stream",
     "text": [
      "(44162, 224)\n",
      "(44162, 41)\n"
     ]
    }
   ],
   "source": [
    "print(Data_v1.shape)\n",
    "Data_v1 =Data_v1[retained_columns]\n",
    "print(Data_v1.shape)"
   ]
  },
  {
   "cell_type": "code",
   "execution_count": 110,
   "metadata": {},
   "outputs": [],
   "source": [
    "numeric_cols = top_xgb_vars.tolist()"
   ]
  },
  {
   "cell_type": "code",
   "execution_count": 111,
   "metadata": {},
   "outputs": [
    {
     "data": {
      "text/html": [
       "<div>\n",
       "<style scoped>\n",
       "    .dataframe tbody tr th:only-of-type {\n",
       "        vertical-align: middle;\n",
       "    }\n",
       "\n",
       "    .dataframe tbody tr th {\n",
       "        vertical-align: top;\n",
       "    }\n",
       "\n",
       "    .dataframe thead th {\n",
       "        text-align: right;\n",
       "    }\n",
       "</style>\n",
       "<table border=\"1\" class=\"dataframe\">\n",
       "  <thead>\n",
       "    <tr style=\"text-align: right;\">\n",
       "      <th></th>\n",
       "      <th>kissht_user_id</th>\n",
       "      <th>t_flag</th>\n",
       "      <th>data_type</th>\n",
       "      <th>customer_first_name_messages</th>\n",
       "      <th>total_credit_count</th>\n",
       "      <th>device_present_age_in_days</th>\n",
       "      <th>number_of_application</th>\n",
       "      <th>total_contacts</th>\n",
       "      <th>avg_balance_3_month</th>\n",
       "      <th>avg_balance_6_month</th>\n",
       "      <th>...</th>\n",
       "      <th>last_six_month_count_loans_pl</th>\n",
       "      <th>last_twelve_month_max_overall</th>\n",
       "      <th>avg_9_12_debit_amount</th>\n",
       "      <th>total_loan_rejected</th>\n",
       "      <th>kreditb_loan_overdue_before_fa</th>\n",
       "      <th>primary_bank_avg_balance</th>\n",
       "      <th>three_month_sum_overdue_overall</th>\n",
       "      <th>twelve_month_sum_overdue_overall</th>\n",
       "      <th>six_month_sum_overdue_overall</th>\n",
       "      <th>avg_six_monthly_emi</th>\n",
       "    </tr>\n",
       "  </thead>\n",
       "  <tbody>\n",
       "    <tr>\n",
       "      <td>0</td>\n",
       "      <td>3530575</td>\n",
       "      <td>1.0</td>\n",
       "      <td>Train</td>\n",
       "      <td>177</td>\n",
       "      <td>41</td>\n",
       "      <td>12</td>\n",
       "      <td>34</td>\n",
       "      <td>284</td>\n",
       "      <td>2797.00000</td>\n",
       "      <td>2797.00</td>\n",
       "      <td>...</td>\n",
       "      <td>1.0</td>\n",
       "      <td>2774.0</td>\n",
       "      <td>6685.0</td>\n",
       "      <td>0</td>\n",
       "      <td>0</td>\n",
       "      <td>3762.000</td>\n",
       "      <td>836.0</td>\n",
       "      <td>836.0</td>\n",
       "      <td>836.0</td>\n",
       "      <td>2774.0</td>\n",
       "    </tr>\n",
       "    <tr>\n",
       "      <td>1</td>\n",
       "      <td>8334491</td>\n",
       "      <td>0.0</td>\n",
       "      <td>Train</td>\n",
       "      <td>830</td>\n",
       "      <td>8</td>\n",
       "      <td>365</td>\n",
       "      <td>55</td>\n",
       "      <td>156</td>\n",
       "      <td>992.50000</td>\n",
       "      <td>63685.25</td>\n",
       "      <td>...</td>\n",
       "      <td>0.0</td>\n",
       "      <td>11303.0</td>\n",
       "      <td>144100.0</td>\n",
       "      <td>0</td>\n",
       "      <td>0</td>\n",
       "      <td>14059.600</td>\n",
       "      <td>0.0</td>\n",
       "      <td>0.0</td>\n",
       "      <td>0.0</td>\n",
       "      <td>0.0</td>\n",
       "    </tr>\n",
       "    <tr>\n",
       "      <td>2</td>\n",
       "      <td>8329352</td>\n",
       "      <td>1.0</td>\n",
       "      <td>Train</td>\n",
       "      <td>279</td>\n",
       "      <td>11</td>\n",
       "      <td>363</td>\n",
       "      <td>36</td>\n",
       "      <td>374</td>\n",
       "      <td>10484.33333</td>\n",
       "      <td>8856.50</td>\n",
       "      <td>...</td>\n",
       "      <td>1.0</td>\n",
       "      <td>3999.0</td>\n",
       "      <td>4697.0</td>\n",
       "      <td>0</td>\n",
       "      <td>0</td>\n",
       "      <td>4163.875</td>\n",
       "      <td>0.0</td>\n",
       "      <td>0.0</td>\n",
       "      <td>0.0</td>\n",
       "      <td>5241.0</td>\n",
       "    </tr>\n",
       "    <tr>\n",
       "      <td>3</td>\n",
       "      <td>8266353</td>\n",
       "      <td>1.0</td>\n",
       "      <td>Train</td>\n",
       "      <td>98</td>\n",
       "      <td>3</td>\n",
       "      <td>12</td>\n",
       "      <td>51</td>\n",
       "      <td>124</td>\n",
       "      <td>0.00000</td>\n",
       "      <td>0.00</td>\n",
       "      <td>...</td>\n",
       "      <td>0.0</td>\n",
       "      <td>0.0</td>\n",
       "      <td>0.0</td>\n",
       "      <td>0</td>\n",
       "      <td>0</td>\n",
       "      <td>0.000</td>\n",
       "      <td>0.0</td>\n",
       "      <td>0.0</td>\n",
       "      <td>0.0</td>\n",
       "      <td>0.0</td>\n",
       "    </tr>\n",
       "    <tr>\n",
       "      <td>4</td>\n",
       "      <td>8286716</td>\n",
       "      <td>0.0</td>\n",
       "      <td>Train</td>\n",
       "      <td>60</td>\n",
       "      <td>0</td>\n",
       "      <td>16</td>\n",
       "      <td>32</td>\n",
       "      <td>339</td>\n",
       "      <td>0.00000</td>\n",
       "      <td>0.00</td>\n",
       "      <td>...</td>\n",
       "      <td>0.0</td>\n",
       "      <td>0.0</td>\n",
       "      <td>4000.0</td>\n",
       "      <td>0</td>\n",
       "      <td>0</td>\n",
       "      <td>0.000</td>\n",
       "      <td>0.0</td>\n",
       "      <td>0.0</td>\n",
       "      <td>0.0</td>\n",
       "      <td>0.0</td>\n",
       "    </tr>\n",
       "  </tbody>\n",
       "</table>\n",
       "<p>5 rows × 41 columns</p>\n",
       "</div>"
      ],
      "text/plain": [
       "   kissht_user_id  t_flag data_type  customer_first_name_messages  \\\n",
       "0         3530575     1.0     Train                           177   \n",
       "1         8334491     0.0     Train                           830   \n",
       "2         8329352     1.0     Train                           279   \n",
       "3         8266353     1.0     Train                            98   \n",
       "4         8286716     0.0     Train                            60   \n",
       "\n",
       "   total_credit_count  device_present_age_in_days  number_of_application  \\\n",
       "0                  41                          12                     34   \n",
       "1                   8                         365                     55   \n",
       "2                  11                         363                     36   \n",
       "3                   3                          12                     51   \n",
       "4                   0                          16                     32   \n",
       "\n",
       "   total_contacts  avg_balance_3_month  avg_balance_6_month  ...  \\\n",
       "0             284           2797.00000              2797.00  ...   \n",
       "1             156            992.50000             63685.25  ...   \n",
       "2             374          10484.33333              8856.50  ...   \n",
       "3             124              0.00000                 0.00  ...   \n",
       "4             339              0.00000                 0.00  ...   \n",
       "\n",
       "   last_six_month_count_loans_pl  last_twelve_month_max_overall  \\\n",
       "0                            1.0                         2774.0   \n",
       "1                            0.0                        11303.0   \n",
       "2                            1.0                         3999.0   \n",
       "3                            0.0                            0.0   \n",
       "4                            0.0                            0.0   \n",
       "\n",
       "   avg_9_12_debit_amount  total_loan_rejected  kreditb_loan_overdue_before_fa  \\\n",
       "0                 6685.0                    0                               0   \n",
       "1               144100.0                    0                               0   \n",
       "2                 4697.0                    0                               0   \n",
       "3                    0.0                    0                               0   \n",
       "4                 4000.0                    0                               0   \n",
       "\n",
       "   primary_bank_avg_balance  three_month_sum_overdue_overall  \\\n",
       "0                  3762.000                            836.0   \n",
       "1                 14059.600                              0.0   \n",
       "2                  4163.875                              0.0   \n",
       "3                     0.000                              0.0   \n",
       "4                     0.000                              0.0   \n",
       "\n",
       "   twelve_month_sum_overdue_overall  six_month_sum_overdue_overall  \\\n",
       "0                             836.0                          836.0   \n",
       "1                               0.0                            0.0   \n",
       "2                               0.0                            0.0   \n",
       "3                               0.0                            0.0   \n",
       "4                               0.0                            0.0   \n",
       "\n",
       "   avg_six_monthly_emi  \n",
       "0               2774.0  \n",
       "1                  0.0  \n",
       "2               5241.0  \n",
       "3                  0.0  \n",
       "4                  0.0  \n",
       "\n",
       "[5 rows x 41 columns]"
      ]
     },
     "execution_count": 111,
     "metadata": {},
     "output_type": "execute_result"
    }
   ],
   "source": [
    "Data_v1[numeric_cols] = Data_v1[numeric_cols].apply(pd.to_numeric, errors='coerce')\n",
    "Data_v1[numeric_cols] = Data_v1[numeric_cols].fillna(0)\n",
    "\n",
    "Data_v1.head()"
   ]
  },
  {
   "cell_type": "code",
   "execution_count": 112,
   "metadata": {},
   "outputs": [
    {
     "name": "stdout",
     "output_type": "stream",
     "text": [
      "(24409, 39)\n",
      "(12022, 39)\n",
      "(7731, 39)\n"
     ]
    }
   ],
   "source": [
    "Data_train =Data_v1[Data_v1[\"data_type\"]==\"Train\"]\n",
    "Data_test =Data_v1[Data_v1[\"data_type\"]==\"Test\"]\n",
    "Data_OOT =Data_v1[Data_v1[\"data_type\"]==\"OOT\"]\n",
    "# Data_OOT2 =Data_v1[Data_v1[\"data_type\"]==\"OOT2\"]\n",
    "Data_train_user_ids = Data_train[\"kissht_user_id\"]\n",
    "Data_test_user_ids = Data_test[\"kissht_user_id\"]\n",
    "Data_OOT_user_ids = Data_OOT[\"kissht_user_id\"]\n",
    "# Data_OOT2_user_ids = Data_OOT2[\"kissht_user_id\"]\n",
    "Data_test =Data_test.drop([\"kissht_user_id\",\"data_type\"], axis=1)\n",
    "Data_train =Data_train.drop([\"kissht_user_id\",\"data_type\"], axis=1)\n",
    "Data_OOT =Data_OOT.drop([\"kissht_user_id\",\"data_type\"], axis=1)\n",
    "# Data_OOT2 =Data_OOT2.drop([\"kissht_user_id\",\"data_type\"], axis=1)\n",
    "print(Data_train.shape)\n",
    "print(Data_test.shape)\n",
    "print(Data_OOT.shape)\n",
    "# print(Data_OOT2.shape)"
   ]
  },
  {
   "cell_type": "code",
   "execution_count": 113,
   "metadata": {},
   "outputs": [
    {
     "data": {
      "text/plain": [
       "t_flag                              float64\n",
       "customer_first_name_messages          int64\n",
       "total_credit_count                    int64\n",
       "device_present_age_in_days            int64\n",
       "number_of_application                 int64\n",
       "total_contacts                        int64\n",
       "avg_balance_3_month                 float64\n",
       "avg_balance_6_month                 float64\n",
       "last_mon_income                     float64\n",
       "age                                   int64\n",
       "avg_9_12_debit_amount_per_count     float64\n",
       "avg_cc_spend_count                  float64\n",
       "total_income                        float64\n",
       "estimated_income_v2                 float64\n",
       "avg_6_mon_income                    float64\n",
       "last_mon_9_12_debit_amount            int64\n",
       "last_month_max_overall              float64\n",
       "total_debit_count                     int64\n",
       "primary_bank_max_balance              int64\n",
       "avg_3_mon_income                    float64\n",
       "avg_9_12_debit_count                float64\n",
       "avg_twelve_monthly_emi              float64\n",
       "count_name_match                      int64\n",
       "avg_cashwithdrawl_6_month           float64\n",
       "primary_bank_avg_balance_3_mon      float64\n",
       "debit_sum_avg                       float64\n",
       "credit_sum_avg                      float64\n",
       "diff_credit_debit                     int64\n",
       "avg_diff_credit_debit               float64\n",
       "last_six_month_count_loans_pl       float64\n",
       "last_twelve_month_max_overall       float64\n",
       "avg_9_12_debit_amount               float64\n",
       "total_loan_rejected                   int64\n",
       "kreditb_loan_overdue_before_fa        int64\n",
       "primary_bank_avg_balance            float64\n",
       "three_month_sum_overdue_overall     float64\n",
       "twelve_month_sum_overdue_overall    float64\n",
       "six_month_sum_overdue_overall       float64\n",
       "avg_six_monthly_emi                 float64\n",
       "dtype: object"
      ]
     },
     "execution_count": 113,
     "metadata": {},
     "output_type": "execute_result"
    }
   ],
   "source": [
    "Data_train.dtypes"
   ]
  },
  {
   "cell_type": "code",
   "execution_count": 114,
   "metadata": {},
   "outputs": [],
   "source": [
    "from xgboost import XGBClassifier\n",
    "import xgboost as xgb \n",
    "from sklearn.metrics import accuracy_score"
   ]
  },
  {
   "cell_type": "code",
   "execution_count": 115,
   "metadata": {},
   "outputs": [
    {
     "name": "stdout",
     "output_type": "stream",
     "text": [
      "(24409, 39)\n",
      "(24409, 38)\n"
     ]
    }
   ],
   "source": [
    "y_train =Data_train[\"t_flag\"]\n",
    "x_train =Data_train[numeric_cols]\n",
    "#test data\n",
    "y_test =Data_test[\"t_flag\"]\n",
    "x_test =Data_test[numeric_cols]\n",
    "#Out of Time\n",
    "y_oot =Data_OOT[\"t_flag\"]\n",
    "x_oot =Data_OOT[numeric_cols]\n",
    "#Out of Time2\n",
    "#y_oot2 =Data_OOT2[\"t_10\"]\n",
    "#x_oot2 =Data_OOT2[numeric_cols]\n",
    "print(Data_train.shape)\n",
    "print(x_train.shape)"
   ]
  },
  {
   "cell_type": "code",
   "execution_count": 116,
   "metadata": {},
   "outputs": [
    {
     "name": "stdout",
     "output_type": "stream",
     "text": [
      "(24409, 38)\n",
      "(18306, 38)\n"
     ]
    }
   ],
   "source": [
    "x_train_v2, x_test_v2 , y_train_v2 , y_test_v2 =train_test_split(x_train, y_train, test_size =0.25 , random_state = 42)\n",
    "print(x_train.shape)\n",
    "print(x_train_v2.shape)"
   ]
  },
  {
   "cell_type": "code",
   "execution_count": 117,
   "metadata": {},
   "outputs": [],
   "source": [
    "# A parameter grid for XGBoost\n",
    "params = {\n",
    "        'min_child_weight': [2,5,10,20,30,40,50],\n",
    "        'learning_rate': [0.01,0.02,0.03,0.04,0.5,1,5,10],\n",
    "        'gamma': [5,6,7, 8,9, 10],\n",
    "        'subsample': [0.4, 0.6, 0.8, 1.0],\n",
    "        'colsample_bytree': [0.8, 0.9, 1.0],\n",
    "        'max_depth': [4, 5, 6, 7],\n",
    "        'n_estimators':[80,100,160,200,250,300]\n",
    "        }"
   ]
  },
  {
   "cell_type": "code",
   "execution_count": 118,
   "metadata": {},
   "outputs": [],
   "source": [
    "xgb = XGBClassifier(learning_rate=0.03, objective='binary:logistic',tree_method ='exact',\n",
    "                    silent=True, nthread=1)"
   ]
  },
  {
   "cell_type": "code",
   "execution_count": 119,
   "metadata": {},
   "outputs": [],
   "source": [
    "def timer(start_time=None):\n",
    "    if not start_time:\n",
    "        start_time = datetime.now()\n",
    "        return start_time\n",
    "    elif start_time:\n",
    "        thour, temp_sec = divmod((datetime.now() - start_time).total_seconds(), 3600)\n",
    "        tmin, tsec = divmod(temp_sec, 60)\n",
    "        print('\\n Time taken: %i hours %i minutes and %s seconds.' % (thour, tmin, round(tsec, 2)))"
   ]
  },
  {
   "cell_type": "code",
   "execution_count": 120,
   "metadata": {},
   "outputs": [
    {
     "name": "stdout",
     "output_type": "stream",
     "text": [
      "Fitting 5 folds for each of 5 candidates, totalling 25 fits\n"
     ]
    },
    {
     "name": "stderr",
     "output_type": "stream",
     "text": [
      "[Parallel(n_jobs=-1)]: Using backend LokyBackend with 8 concurrent workers.\n",
      "[Parallel(n_jobs=-1)]: Done  19 out of  25 | elapsed:  1.5min remaining:   27.9s\n",
      "[Parallel(n_jobs=-1)]: Done  25 out of  25 | elapsed:  1.6min finished\n"
     ]
    },
    {
     "name": "stdout",
     "output_type": "stream",
     "text": [
      "\n",
      " Time taken: 0 hours 2 minutes and 11.14 seconds.\n"
     ]
    }
   ],
   "source": [
    "folds = 5\n",
    "param_comb = 5\n",
    "\n",
    "skf = StratifiedKFold(n_splits=folds, shuffle = False, random_state = 42)\n",
    "\n",
    "random_search = RandomizedSearchCV(xgb, param_distributions=params, n_iter=param_comb, scoring='roc_auc', n_jobs=-1, cv=skf.split(x_train_v2, y_train_v2), verbose=3, random_state=42)\n",
    "\n",
    "start_time = timer(None) # timing starts from this point for \"start_time\" variable\n",
    "random_search.fit(x_train_v2, y_train_v2)\n",
    "timer(start_time) # timing ends here for \"start_time\" variable"
   ]
  },
  {
   "cell_type": "code",
   "execution_count": 121,
   "metadata": {},
   "outputs": [
    {
     "name": "stdout",
     "output_type": "stream",
     "text": [
      "\n",
      " All results:\n",
      "{'mean_fit_time': array([ 3.1529727 , 30.97102437, 38.92955456, 54.28672657, 11.96352315]), 'std_fit_time': array([0.23889539, 0.1202101 , 4.13160697, 0.41075364, 0.9158528 ]), 'mean_score_time': array([0.02194171, 0.14261885, 0.14581046, 0.14142737, 0.05644913]), 'std_score_time': array([0.0006306 , 0.01244086, 0.01791195, 0.01586961, 0.00794355]), 'param_subsample': masked_array(data=[1.0, 0.4, 0.4, 0.8, 0.6],\n",
      "             mask=[False, False, False, False, False],\n",
      "       fill_value='?',\n",
      "            dtype=object), 'param_n_estimators': masked_array(data=[80, 300, 300, 300, 80],\n",
      "             mask=[False, False, False, False, False],\n",
      "       fill_value='?',\n",
      "            dtype=object), 'param_min_child_weight': masked_array(data=[2, 2, 5, 30, 10],\n",
      "             mask=[False, False, False, False, False],\n",
      "       fill_value='?',\n",
      "            dtype=object), 'param_max_depth': masked_array(data=[6, 5, 5, 6, 5],\n",
      "             mask=[False, False, False, False, False],\n",
      "       fill_value='?',\n",
      "            dtype=object), 'param_learning_rate': masked_array(data=[10, 0.02, 0.03, 0.02, 0.02],\n",
      "             mask=[False, False, False, False, False],\n",
      "       fill_value='?',\n",
      "            dtype=object), 'param_gamma': masked_array(data=[7, 5, 7, 9, 6],\n",
      "             mask=[False, False, False, False, False],\n",
      "       fill_value='?',\n",
      "            dtype=object), 'param_colsample_bytree': masked_array(data=[0.8, 0.8, 1.0, 0.9, 0.8],\n",
      "             mask=[False, False, False, False, False],\n",
      "       fill_value='?',\n",
      "            dtype=object), 'params': [{'subsample': 1.0, 'n_estimators': 80, 'min_child_weight': 2, 'max_depth': 6, 'learning_rate': 10, 'gamma': 7, 'colsample_bytree': 0.8}, {'subsample': 0.4, 'n_estimators': 300, 'min_child_weight': 2, 'max_depth': 5, 'learning_rate': 0.02, 'gamma': 5, 'colsample_bytree': 0.8}, {'subsample': 0.4, 'n_estimators': 300, 'min_child_weight': 5, 'max_depth': 5, 'learning_rate': 0.03, 'gamma': 7, 'colsample_bytree': 1.0}, {'subsample': 0.8, 'n_estimators': 300, 'min_child_weight': 30, 'max_depth': 6, 'learning_rate': 0.02, 'gamma': 9, 'colsample_bytree': 0.9}, {'subsample': 0.6, 'n_estimators': 80, 'min_child_weight': 10, 'max_depth': 5, 'learning_rate': 0.02, 'gamma': 6, 'colsample_bytree': 0.8}], 'split0_test_score': array([0.5       , 0.63494681, 0.63725496, 0.63162092, 0.62560838]), 'split1_test_score': array([0.5       , 0.64850669, 0.65009243, 0.64675792, 0.64211245]), 'split2_test_score': array([0.5       , 0.63403493, 0.63681746, 0.63974139, 0.63274135]), 'split3_test_score': array([0.48132589, 0.6364883 , 0.63619702, 0.63595858, 0.62993331]), 'split4_test_score': array([0.52883466, 0.6404952 , 0.64333306, 0.64261258, 0.63876494]), 'mean_test_score': array([0.50203144, 0.63889447, 0.6407392 , 0.63933829, 0.63383197]), 'std_test_score': array([0.01522589, 0.00529097, 0.00533626, 0.00523321, 0.00594868]), 'rank_test_score': array([5, 3, 1, 2, 4])}\n",
      "\n",
      " Best estimator:\n",
      "XGBClassifier(base_score=0.5, booster='gbtree', colsample_bylevel=1,\n",
      "              colsample_bynode=1, colsample_bytree=1.0, gamma=7,\n",
      "              learning_rate=0.03, max_delta_step=0, max_depth=5,\n",
      "              min_child_weight=5, missing=None, n_estimators=300, n_jobs=1,\n",
      "              nthread=1, objective='binary:logistic', random_state=0,\n",
      "              reg_alpha=0, reg_lambda=1, scale_pos_weight=1, seed=None,\n",
      "              silent=True, subsample=0.4, tree_method='exact', verbosity=1)\n",
      "\n",
      " Best AUC\n",
      "0.6407391975768526\n",
      "\n",
      " Best normalized gini score for 5-fold search with 5 parameter combinations:\n",
      "0.2814783951537052\n",
      "\n",
      " Best hyperparameters:\n",
      "{'subsample': 0.4, 'n_estimators': 300, 'min_child_weight': 5, 'max_depth': 5, 'learning_rate': 0.03, 'gamma': 7, 'colsample_bytree': 1.0}\n"
     ]
    }
   ],
   "source": [
    "print('\\n All results:')\n",
    "print(random_search.cv_results_)\n",
    "print('\\n Best estimator:')\n",
    "print(random_search.best_estimator_)\n",
    "print('\\n Best AUC')\n",
    "print(random_search.best_score_)\n",
    "print('\\n Best normalized gini score for %d-fold search with %d parameter combinations:' % (folds, param_comb))\n",
    "print(random_search.best_score_ * 2 - 1)\n",
    "print('\\n Best hyperparameters:')\n",
    "print(random_search.best_params_)\n",
    "results = pd.DataFrame(random_search.cv_results_)\n",
    "results.to_csv('xgb-random-grid-search-results-02.csv', index=False)"
   ]
  },
  {
   "cell_type": "code",
   "execution_count": 122,
   "metadata": {},
   "outputs": [],
   "source": [
    "xgb_clf = XGBClassifier(base_score=0.5, booster='gbtree', colsample_bylevel=1,\n",
    "              colsample_bynode=1, colsample_bytree=0.8, gamma=5,\n",
    "              learning_rate=0.02, max_delta_step=0, max_depth=5,\n",
    "              min_child_weight=2, missing=None, n_estimators=300, n_jobs=1,\n",
    "              nthread=1, objective='binary:logistic', random_state=0,\n",
    "              reg_alpha=0, reg_lambda=1, scale_pos_weight=1, seed=None,\n",
    "              silent=True, subsample=0.4, tree_method='exact', verbosity=1)\n",
    "\n"
   ]
  },
  {
   "cell_type": "code",
   "execution_count": 123,
   "metadata": {},
   "outputs": [],
   "source": [
    "x_train =x_train[sorted(x_train.columns)]"
   ]
  },
  {
   "cell_type": "code",
   "execution_count": 124,
   "metadata": {},
   "outputs": [
    {
     "name": "stdout",
     "output_type": "stream",
     "text": [
      "[0]\tvalidation_0-auc:0.583433\tvalidation_0-error:0.390247\tvalidation_0-logloss:0.692012\n",
      "[1]\tvalidation_0-auc:0.591322\tvalidation_0-error:0.395292\tvalidation_0-logloss:0.690948\n",
      "[2]\tvalidation_0-auc:0.597222\tvalidation_0-error:0.394386\tvalidation_0-logloss:0.689923\n",
      "[3]\tvalidation_0-auc:0.59841\tvalidation_0-error:0.394386\tvalidation_0-logloss:0.688959\n",
      "[4]\tvalidation_0-auc:0.599606\tvalidation_0-error:0.391799\tvalidation_0-logloss:0.688029\n",
      "[5]\tvalidation_0-auc:0.599532\tvalidation_0-error:0.390894\tvalidation_0-logloss:0.687149\n",
      "[6]\tvalidation_0-auc:0.60068\tvalidation_0-error:0.386108\tvalidation_0-logloss:0.686273\n",
      "[7]\tvalidation_0-auc:0.601192\tvalidation_0-error:0.388566\tvalidation_0-logloss:0.685475\n",
      "[8]\tvalidation_0-auc:0.602335\tvalidation_0-error:0.390247\tvalidation_0-logloss:0.684642\n",
      "[9]\tvalidation_0-auc:0.60212\tvalidation_0-error:0.391153\tvalidation_0-logloss:0.683903\n",
      "[10]\tvalidation_0-auc:0.602639\tvalidation_0-error:0.395033\tvalidation_0-logloss:0.683198\n",
      "[11]\tvalidation_0-auc:0.604146\tvalidation_0-error:0.392834\tvalidation_0-logloss:0.682384\n",
      "[12]\tvalidation_0-auc:0.605224\tvalidation_0-error:0.389859\tvalidation_0-logloss:0.681662\n",
      "[13]\tvalidation_0-auc:0.604183\tvalidation_0-error:0.391282\tvalidation_0-logloss:0.681013\n",
      "[14]\tvalidation_0-auc:0.604133\tvalidation_0-error:0.391411\tvalidation_0-logloss:0.680432\n",
      "[15]\tvalidation_0-auc:0.603498\tvalidation_0-error:0.390247\tvalidation_0-logloss:0.679805\n",
      "[16]\tvalidation_0-auc:0.603858\tvalidation_0-error:0.391541\tvalidation_0-logloss:0.679188\n",
      "[17]\tvalidation_0-auc:0.604964\tvalidation_0-error:0.387919\tvalidation_0-logloss:0.678577\n",
      "[18]\tvalidation_0-auc:0.605526\tvalidation_0-error:0.389859\tvalidation_0-logloss:0.677955\n",
      "[19]\tvalidation_0-auc:0.604745\tvalidation_0-error:0.390635\tvalidation_0-logloss:0.677491\n",
      "[20]\tvalidation_0-auc:0.604753\tvalidation_0-error:0.39167\tvalidation_0-logloss:0.677071\n",
      "[21]\tvalidation_0-auc:0.604295\tvalidation_0-error:0.391929\tvalidation_0-logloss:0.676644\n",
      "[22]\tvalidation_0-auc:0.604489\tvalidation_0-error:0.392187\tvalidation_0-logloss:0.676154\n",
      "[23]\tvalidation_0-auc:0.605111\tvalidation_0-error:0.391411\tvalidation_0-logloss:0.675639\n",
      "[24]\tvalidation_0-auc:0.604733\tvalidation_0-error:0.38973\tvalidation_0-logloss:0.675197\n",
      "[25]\tvalidation_0-auc:0.604871\tvalidation_0-error:0.38973\tvalidation_0-logloss:0.674694\n",
      "[26]\tvalidation_0-auc:0.605296\tvalidation_0-error:0.390506\tvalidation_0-logloss:0.674193\n",
      "[27]\tvalidation_0-auc:0.605537\tvalidation_0-error:0.388566\tvalidation_0-logloss:0.673785\n",
      "[28]\tvalidation_0-auc:0.605332\tvalidation_0-error:0.389212\tvalidation_0-logloss:0.673435\n",
      "[29]\tvalidation_0-auc:0.605241\tvalidation_0-error:0.388307\tvalidation_0-logloss:0.67302\n",
      "[30]\tvalidation_0-auc:0.605658\tvalidation_0-error:0.388048\tvalidation_0-logloss:0.672618\n",
      "[31]\tvalidation_0-auc:0.605936\tvalidation_0-error:0.389083\tvalidation_0-logloss:0.672259\n",
      "[32]\tvalidation_0-auc:0.606163\tvalidation_0-error:0.388824\tvalidation_0-logloss:0.671874\n",
      "[33]\tvalidation_0-auc:0.60617\tvalidation_0-error:0.3896\tvalidation_0-logloss:0.671574\n",
      "[34]\tvalidation_0-auc:0.606687\tvalidation_0-error:0.389859\tvalidation_0-logloss:0.671186\n",
      "[35]\tvalidation_0-auc:0.606603\tvalidation_0-error:0.389212\tvalidation_0-logloss:0.670833\n",
      "[36]\tvalidation_0-auc:0.606622\tvalidation_0-error:0.391023\tvalidation_0-logloss:0.67045\n",
      "[37]\tvalidation_0-auc:0.606751\tvalidation_0-error:0.390376\tvalidation_0-logloss:0.670146\n",
      "[38]\tvalidation_0-auc:0.606787\tvalidation_0-error:0.391023\tvalidation_0-logloss:0.669898\n",
      "[39]\tvalidation_0-auc:0.606839\tvalidation_0-error:0.390506\tvalidation_0-logloss:0.669626\n",
      "[40]\tvalidation_0-auc:0.606574\tvalidation_0-error:0.391153\tvalidation_0-logloss:0.669367\n",
      "[41]\tvalidation_0-auc:0.606538\tvalidation_0-error:0.391541\tvalidation_0-logloss:0.669183\n",
      "[42]\tvalidation_0-auc:0.606808\tvalidation_0-error:0.39167\tvalidation_0-logloss:0.66889\n",
      "[43]\tvalidation_0-auc:0.606733\tvalidation_0-error:0.391153\tvalidation_0-logloss:0.668678\n",
      "[44]\tvalidation_0-auc:0.606985\tvalidation_0-error:0.390247\tvalidation_0-logloss:0.668376\n",
      "[45]\tvalidation_0-auc:0.606925\tvalidation_0-error:0.390635\tvalidation_0-logloss:0.668126\n",
      "[46]\tvalidation_0-auc:0.606801\tvalidation_0-error:0.391541\tvalidation_0-logloss:0.667944\n",
      "[47]\tvalidation_0-auc:0.606794\tvalidation_0-error:0.392058\tvalidation_0-logloss:0.667747\n",
      "[48]\tvalidation_0-auc:0.606885\tvalidation_0-error:0.391023\tvalidation_0-logloss:0.66747\n",
      "[49]\tvalidation_0-auc:0.606704\tvalidation_0-error:0.391541\tvalidation_0-logloss:0.667323\n",
      "[50]\tvalidation_0-auc:0.606652\tvalidation_0-error:0.392058\tvalidation_0-logloss:0.667125\n",
      "[51]\tvalidation_0-auc:0.606775\tvalidation_0-error:0.390376\tvalidation_0-logloss:0.666915\n",
      "[52]\tvalidation_0-auc:0.60672\tvalidation_0-error:0.390506\tvalidation_0-logloss:0.666735\n",
      "[53]\tvalidation_0-auc:0.607006\tvalidation_0-error:0.391153\tvalidation_0-logloss:0.666519\n",
      "[54]\tvalidation_0-auc:0.606729\tvalidation_0-error:0.392058\tvalidation_0-logloss:0.666408\n",
      "[55]\tvalidation_0-auc:0.60689\tvalidation_0-error:0.39167\tvalidation_0-logloss:0.666233\n",
      "[56]\tvalidation_0-auc:0.606871\tvalidation_0-error:0.390635\tvalidation_0-logloss:0.66614\n",
      "[57]\tvalidation_0-auc:0.607059\tvalidation_0-error:0.390118\tvalidation_0-logloss:0.665962\n",
      "[58]\tvalidation_0-auc:0.606993\tvalidation_0-error:0.389988\tvalidation_0-logloss:0.665828\n",
      "[59]\tvalidation_0-auc:0.606837\tvalidation_0-error:0.389988\tvalidation_0-logloss:0.665707\n",
      "[60]\tvalidation_0-auc:0.606871\tvalidation_0-error:0.390247\tvalidation_0-logloss:0.665535\n",
      "[61]\tvalidation_0-auc:0.606937\tvalidation_0-error:0.38973\tvalidation_0-logloss:0.665401\n",
      "[62]\tvalidation_0-auc:0.607239\tvalidation_0-error:0.38973\tvalidation_0-logloss:0.665217\n",
      "[63]\tvalidation_0-auc:0.607215\tvalidation_0-error:0.389471\tvalidation_0-logloss:0.665123\n",
      "[64]\tvalidation_0-auc:0.607238\tvalidation_0-error:0.38973\tvalidation_0-logloss:0.665023\n",
      "[65]\tvalidation_0-auc:0.607301\tvalidation_0-error:0.391411\tvalidation_0-logloss:0.664964\n",
      "[66]\tvalidation_0-auc:0.607458\tvalidation_0-error:0.389988\tvalidation_0-logloss:0.664816\n",
      "[67]\tvalidation_0-auc:0.607587\tvalidation_0-error:0.390247\tvalidation_0-logloss:0.664661\n",
      "[68]\tvalidation_0-auc:0.607642\tvalidation_0-error:0.3896\tvalidation_0-logloss:0.664557\n",
      "[69]\tvalidation_0-auc:0.607883\tvalidation_0-error:0.390764\tvalidation_0-logloss:0.664433\n",
      "[70]\tvalidation_0-auc:0.607915\tvalidation_0-error:0.390247\tvalidation_0-logloss:0.664327\n",
      "[71]\tvalidation_0-auc:0.607991\tvalidation_0-error:0.391153\tvalidation_0-logloss:0.664239\n",
      "[72]\tvalidation_0-auc:0.607975\tvalidation_0-error:0.391411\tvalidation_0-logloss:0.664145\n",
      "[73]\tvalidation_0-auc:0.608\tvalidation_0-error:0.390764\tvalidation_0-logloss:0.664082\n",
      "[74]\tvalidation_0-auc:0.608069\tvalidation_0-error:0.392705\tvalidation_0-logloss:0.664036\n",
      "[75]\tvalidation_0-auc:0.608318\tvalidation_0-error:0.391799\tvalidation_0-logloss:0.663932\n",
      "[76]\tvalidation_0-auc:0.608322\tvalidation_0-error:0.392058\tvalidation_0-logloss:0.663816\n",
      "[77]\tvalidation_0-auc:0.60835\tvalidation_0-error:0.391799\tvalidation_0-logloss:0.66374\n",
      "[78]\tvalidation_0-auc:0.608284\tvalidation_0-error:0.392058\tvalidation_0-logloss:0.663659\n",
      "[79]\tvalidation_0-auc:0.608337\tvalidation_0-error:0.391541\tvalidation_0-logloss:0.663616\n",
      "[80]\tvalidation_0-auc:0.608375\tvalidation_0-error:0.390894\tvalidation_0-logloss:0.663523\n",
      "[81]\tvalidation_0-auc:0.608186\tvalidation_0-error:0.390764\tvalidation_0-logloss:0.663529\n",
      "[82]\tvalidation_0-auc:0.608386\tvalidation_0-error:0.390764\tvalidation_0-logloss:0.663458\n",
      "[83]\tvalidation_0-auc:0.608276\tvalidation_0-error:0.38973\tvalidation_0-logloss:0.663424\n",
      "[84]\tvalidation_0-auc:0.608356\tvalidation_0-error:0.389988\tvalidation_0-logloss:0.663333\n",
      "[85]\tvalidation_0-auc:0.608344\tvalidation_0-error:0.390118\tvalidation_0-logloss:0.663304\n",
      "[86]\tvalidation_0-auc:0.608287\tvalidation_0-error:0.389988\tvalidation_0-logloss:0.663227\n",
      "[87]\tvalidation_0-auc:0.608238\tvalidation_0-error:0.3896\tvalidation_0-logloss:0.663171\n",
      "[88]\tvalidation_0-auc:0.608069\tvalidation_0-error:0.390764\tvalidation_0-logloss:0.663163\n",
      "[89]\tvalidation_0-auc:0.60826\tvalidation_0-error:0.391153\tvalidation_0-logloss:0.663046\n",
      "[90]\tvalidation_0-auc:0.608443\tvalidation_0-error:0.390635\tvalidation_0-logloss:0.66298\n",
      "[91]\tvalidation_0-auc:0.608599\tvalidation_0-error:0.391153\tvalidation_0-logloss:0.662924\n",
      "[92]\tvalidation_0-auc:0.608368\tvalidation_0-error:0.389471\tvalidation_0-logloss:0.662943\n"
     ]
    },
    {
     "name": "stdout",
     "output_type": "stream",
     "text": [
      "[93]\tvalidation_0-auc:0.608498\tvalidation_0-error:0.390118\tvalidation_0-logloss:0.662849\n",
      "[94]\tvalidation_0-auc:0.608737\tvalidation_0-error:0.38973\tvalidation_0-logloss:0.662755\n",
      "[95]\tvalidation_0-auc:0.608941\tvalidation_0-error:0.390764\tvalidation_0-logloss:0.662688\n",
      "[96]\tvalidation_0-auc:0.608924\tvalidation_0-error:0.390118\tvalidation_0-logloss:0.662668\n",
      "[97]\tvalidation_0-auc:0.608932\tvalidation_0-error:0.390247\tvalidation_0-logloss:0.662675\n",
      "[98]\tvalidation_0-auc:0.608952\tvalidation_0-error:0.389988\tvalidation_0-logloss:0.66269\n",
      "[99]\tvalidation_0-auc:0.608828\tvalidation_0-error:0.38973\tvalidation_0-logloss:0.662691\n",
      "[100]\tvalidation_0-auc:0.608827\tvalidation_0-error:0.3896\tvalidation_0-logloss:0.66264\n",
      "[101]\tvalidation_0-auc:0.608924\tvalidation_0-error:0.3896\tvalidation_0-logloss:0.662591\n",
      "[102]\tvalidation_0-auc:0.608903\tvalidation_0-error:0.390247\tvalidation_0-logloss:0.662539\n",
      "[103]\tvalidation_0-auc:0.609083\tvalidation_0-error:0.390376\tvalidation_0-logloss:0.662468\n",
      "[104]\tvalidation_0-auc:0.609053\tvalidation_0-error:0.38973\tvalidation_0-logloss:0.662476\n",
      "[105]\tvalidation_0-auc:0.609204\tvalidation_0-error:0.390118\tvalidation_0-logloss:0.662466\n",
      "[106]\tvalidation_0-auc:0.609146\tvalidation_0-error:0.3896\tvalidation_0-logloss:0.662457\n",
      "[107]\tvalidation_0-auc:0.609147\tvalidation_0-error:0.390118\tvalidation_0-logloss:0.662417\n",
      "[108]\tvalidation_0-auc:0.609118\tvalidation_0-error:0.389988\tvalidation_0-logloss:0.66241\n",
      "[109]\tvalidation_0-auc:0.609247\tvalidation_0-error:0.388824\tvalidation_0-logloss:0.662318\n",
      "[110]\tvalidation_0-auc:0.609237\tvalidation_0-error:0.388824\tvalidation_0-logloss:0.662291\n",
      "[111]\tvalidation_0-auc:0.609271\tvalidation_0-error:0.388177\tvalidation_0-logloss:0.662254\n",
      "[112]\tvalidation_0-auc:0.609448\tvalidation_0-error:0.389212\tvalidation_0-logloss:0.662182\n",
      "[113]\tvalidation_0-auc:0.609537\tvalidation_0-error:0.388695\tvalidation_0-logloss:0.66209\n",
      "[114]\tvalidation_0-auc:0.609464\tvalidation_0-error:0.388048\tvalidation_0-logloss:0.662123\n",
      "[115]\tvalidation_0-auc:0.609609\tvalidation_0-error:0.38766\tvalidation_0-logloss:0.662061\n",
      "[116]\tvalidation_0-auc:0.609578\tvalidation_0-error:0.388307\tvalidation_0-logloss:0.662032\n",
      "[117]\tvalidation_0-auc:0.609686\tvalidation_0-error:0.388436\tvalidation_0-logloss:0.661994\n",
      "[118]\tvalidation_0-auc:0.609842\tvalidation_0-error:0.388048\tvalidation_0-logloss:0.661906\n",
      "[119]\tvalidation_0-auc:0.609873\tvalidation_0-error:0.387789\tvalidation_0-logloss:0.661876\n",
      "[120]\tvalidation_0-auc:0.609896\tvalidation_0-error:0.388048\tvalidation_0-logloss:0.661861\n",
      "[121]\tvalidation_0-auc:0.609972\tvalidation_0-error:0.388048\tvalidation_0-logloss:0.661813\n",
      "[122]\tvalidation_0-auc:0.609995\tvalidation_0-error:0.388307\tvalidation_0-logloss:0.661847\n",
      "[123]\tvalidation_0-auc:0.61017\tvalidation_0-error:0.388048\tvalidation_0-logloss:0.661805\n",
      "[124]\tvalidation_0-auc:0.610319\tvalidation_0-error:0.387789\tvalidation_0-logloss:0.661756\n",
      "[125]\tvalidation_0-auc:0.610288\tvalidation_0-error:0.388177\tvalidation_0-logloss:0.661753\n",
      "[126]\tvalidation_0-auc:0.61028\tvalidation_0-error:0.387919\tvalidation_0-logloss:0.661739\n",
      "[127]\tvalidation_0-auc:0.610257\tvalidation_0-error:0.388436\tvalidation_0-logloss:0.661719\n",
      "[128]\tvalidation_0-auc:0.610374\tvalidation_0-error:0.388048\tvalidation_0-logloss:0.661677\n",
      "[129]\tvalidation_0-auc:0.610195\tvalidation_0-error:0.387013\tvalidation_0-logloss:0.661718\n",
      "[130]\tvalidation_0-auc:0.610319\tvalidation_0-error:0.387272\tvalidation_0-logloss:0.661624\n",
      "[131]\tvalidation_0-auc:0.610306\tvalidation_0-error:0.386496\tvalidation_0-logloss:0.661634\n",
      "[132]\tvalidation_0-auc:0.610441\tvalidation_0-error:0.385979\tvalidation_0-logloss:0.661588\n",
      "[133]\tvalidation_0-auc:0.610496\tvalidation_0-error:0.387919\tvalidation_0-logloss:0.661557\n",
      "[134]\tvalidation_0-auc:0.610624\tvalidation_0-error:0.387531\tvalidation_0-logloss:0.661544\n",
      "[135]\tvalidation_0-auc:0.61064\tvalidation_0-error:0.387789\tvalidation_0-logloss:0.661531\n",
      "[136]\tvalidation_0-auc:0.61077\tvalidation_0-error:0.387531\tvalidation_0-logloss:0.66149\n",
      "[137]\tvalidation_0-auc:0.610797\tvalidation_0-error:0.386884\tvalidation_0-logloss:0.661476\n",
      "[138]\tvalidation_0-auc:0.610837\tvalidation_0-error:0.387013\tvalidation_0-logloss:0.661431\n",
      "[139]\tvalidation_0-auc:0.610919\tvalidation_0-error:0.387272\tvalidation_0-logloss:0.661383\n",
      "[140]\tvalidation_0-auc:0.610941\tvalidation_0-error:0.386884\tvalidation_0-logloss:0.661343\n",
      "[141]\tvalidation_0-auc:0.610942\tvalidation_0-error:0.387272\tvalidation_0-logloss:0.661314\n",
      "[142]\tvalidation_0-auc:0.611009\tvalidation_0-error:0.386496\tvalidation_0-logloss:0.661285\n",
      "[143]\tvalidation_0-auc:0.611277\tvalidation_0-error:0.385849\tvalidation_0-logloss:0.661207\n",
      "[144]\tvalidation_0-auc:0.611257\tvalidation_0-error:0.386108\tvalidation_0-logloss:0.661207\n",
      "[145]\tvalidation_0-auc:0.611264\tvalidation_0-error:0.385849\tvalidation_0-logloss:0.661187\n",
      "[146]\tvalidation_0-auc:0.611423\tvalidation_0-error:0.385202\tvalidation_0-logloss:0.661104\n",
      "[147]\tvalidation_0-auc:0.61145\tvalidation_0-error:0.386367\tvalidation_0-logloss:0.661134\n",
      "[148]\tvalidation_0-auc:0.611453\tvalidation_0-error:0.386237\tvalidation_0-logloss:0.661134\n",
      "[149]\tvalidation_0-auc:0.6114\tvalidation_0-error:0.386755\tvalidation_0-logloss:0.661179\n",
      "[150]\tvalidation_0-auc:0.611225\tvalidation_0-error:0.386496\tvalidation_0-logloss:0.661228\n",
      "[151]\tvalidation_0-auc:0.611166\tvalidation_0-error:0.38572\tvalidation_0-logloss:0.661262\n",
      "[152]\tvalidation_0-auc:0.611213\tvalidation_0-error:0.385461\tvalidation_0-logloss:0.661227\n",
      "[153]\tvalidation_0-auc:0.611224\tvalidation_0-error:0.386108\tvalidation_0-logloss:0.661249\n",
      "[154]\tvalidation_0-auc:0.611234\tvalidation_0-error:0.386108\tvalidation_0-logloss:0.661285\n",
      "[155]\tvalidation_0-auc:0.611293\tvalidation_0-error:0.38572\tvalidation_0-logloss:0.661298\n",
      "[156]\tvalidation_0-auc:0.611423\tvalidation_0-error:0.386625\tvalidation_0-logloss:0.661231\n",
      "[157]\tvalidation_0-auc:0.611504\tvalidation_0-error:0.387013\tvalidation_0-logloss:0.661245\n",
      "[158]\tvalidation_0-auc:0.611439\tvalidation_0-error:0.386496\tvalidation_0-logloss:0.661243\n",
      "[159]\tvalidation_0-auc:0.611415\tvalidation_0-error:0.387013\tvalidation_0-logloss:0.661239\n",
      "[160]\tvalidation_0-auc:0.611571\tvalidation_0-error:0.387143\tvalidation_0-logloss:0.661197\n",
      "[161]\tvalidation_0-auc:0.61163\tvalidation_0-error:0.387272\tvalidation_0-logloss:0.661203\n",
      "[162]\tvalidation_0-auc:0.611675\tvalidation_0-error:0.387143\tvalidation_0-logloss:0.661177\n",
      "[163]\tvalidation_0-auc:0.611627\tvalidation_0-error:0.38766\tvalidation_0-logloss:0.661169\n",
      "[164]\tvalidation_0-auc:0.611652\tvalidation_0-error:0.388307\tvalidation_0-logloss:0.661164\n",
      "[165]\tvalidation_0-auc:0.611718\tvalidation_0-error:0.38766\tvalidation_0-logloss:0.661131\n",
      "[166]\tvalidation_0-auc:0.611747\tvalidation_0-error:0.387531\tvalidation_0-logloss:0.661196\n",
      "[167]\tvalidation_0-auc:0.611649\tvalidation_0-error:0.388695\tvalidation_0-logloss:0.661222\n",
      "[168]\tvalidation_0-auc:0.611619\tvalidation_0-error:0.387789\tvalidation_0-logloss:0.661232\n",
      "[169]\tvalidation_0-auc:0.611668\tvalidation_0-error:0.387919\tvalidation_0-logloss:0.661257\n",
      "[170]\tvalidation_0-auc:0.611576\tvalidation_0-error:0.387272\tvalidation_0-logloss:0.661325\n",
      "[171]\tvalidation_0-auc:0.61154\tvalidation_0-error:0.386755\tvalidation_0-logloss:0.661331\n",
      "[172]\tvalidation_0-auc:0.611725\tvalidation_0-error:0.386367\tvalidation_0-logloss:0.661312\n",
      "[173]\tvalidation_0-auc:0.611582\tvalidation_0-error:0.386625\tvalidation_0-logloss:0.661365\n",
      "[174]\tvalidation_0-auc:0.611558\tvalidation_0-error:0.387531\tvalidation_0-logloss:0.661368\n",
      "[175]\tvalidation_0-auc:0.611627\tvalidation_0-error:0.387143\tvalidation_0-logloss:0.661381\n",
      "[176]\tvalidation_0-auc:0.611769\tvalidation_0-error:0.386237\tvalidation_0-logloss:0.661333\n",
      "[177]\tvalidation_0-auc:0.61172\tvalidation_0-error:0.386625\tvalidation_0-logloss:0.661356\n",
      "[178]\tvalidation_0-auc:0.611746\tvalidation_0-error:0.386884\tvalidation_0-logloss:0.661338\n",
      "[179]\tvalidation_0-auc:0.611775\tvalidation_0-error:0.386884\tvalidation_0-logloss:0.661318\n",
      "[180]\tvalidation_0-auc:0.611771\tvalidation_0-error:0.386755\tvalidation_0-logloss:0.661364\n",
      "[181]\tvalidation_0-auc:0.611824\tvalidation_0-error:0.386755\tvalidation_0-logloss:0.661354\n",
      "[182]\tvalidation_0-auc:0.611732\tvalidation_0-error:0.387531\tvalidation_0-logloss:0.66138\n",
      "[183]\tvalidation_0-auc:0.611724\tvalidation_0-error:0.387401\tvalidation_0-logloss:0.661426\n",
      "[184]\tvalidation_0-auc:0.611766\tvalidation_0-error:0.386884\tvalidation_0-logloss:0.661396\n"
     ]
    },
    {
     "name": "stdout",
     "output_type": "stream",
     "text": [
      "[185]\tvalidation_0-auc:0.611755\tvalidation_0-error:0.387272\tvalidation_0-logloss:0.661423\n",
      "[186]\tvalidation_0-auc:0.611797\tvalidation_0-error:0.386625\tvalidation_0-logloss:0.661417\n",
      "[187]\tvalidation_0-auc:0.611752\tvalidation_0-error:0.386108\tvalidation_0-logloss:0.661465\n",
      "[188]\tvalidation_0-auc:0.611736\tvalidation_0-error:0.386625\tvalidation_0-logloss:0.661491\n",
      "[189]\tvalidation_0-auc:0.611705\tvalidation_0-error:0.387013\tvalidation_0-logloss:0.661518\n",
      "[190]\tvalidation_0-auc:0.611643\tvalidation_0-error:0.388177\tvalidation_0-logloss:0.661566\n",
      "[191]\tvalidation_0-auc:0.611657\tvalidation_0-error:0.387272\tvalidation_0-logloss:0.661551\n",
      "[192]\tvalidation_0-auc:0.611732\tvalidation_0-error:0.388177\tvalidation_0-logloss:0.661576\n",
      "[193]\tvalidation_0-auc:0.611707\tvalidation_0-error:0.388177\tvalidation_0-logloss:0.661603\n",
      "[194]\tvalidation_0-auc:0.611665\tvalidation_0-error:0.388436\tvalidation_0-logloss:0.661619\n",
      "[195]\tvalidation_0-auc:0.611896\tvalidation_0-error:0.388824\tvalidation_0-logloss:0.661586\n",
      "[196]\tvalidation_0-auc:0.611845\tvalidation_0-error:0.388566\tvalidation_0-logloss:0.661582\n",
      "[197]\tvalidation_0-auc:0.611722\tvalidation_0-error:0.388695\tvalidation_0-logloss:0.661658\n",
      "[198]\tvalidation_0-auc:0.611589\tvalidation_0-error:0.389083\tvalidation_0-logloss:0.661698\n",
      "[199]\tvalidation_0-auc:0.611598\tvalidation_0-error:0.388566\tvalidation_0-logloss:0.661732\n",
      "[200]\tvalidation_0-auc:0.611629\tvalidation_0-error:0.387143\tvalidation_0-logloss:0.661732\n",
      "[201]\tvalidation_0-auc:0.611648\tvalidation_0-error:0.38766\tvalidation_0-logloss:0.661739\n",
      "[202]\tvalidation_0-auc:0.611726\tvalidation_0-error:0.387401\tvalidation_0-logloss:0.661702\n",
      "[203]\tvalidation_0-auc:0.611771\tvalidation_0-error:0.387143\tvalidation_0-logloss:0.661691\n",
      "[204]\tvalidation_0-auc:0.611692\tvalidation_0-error:0.387143\tvalidation_0-logloss:0.661757\n",
      "[205]\tvalidation_0-auc:0.611813\tvalidation_0-error:0.386367\tvalidation_0-logloss:0.661722\n",
      "[206]\tvalidation_0-auc:0.611842\tvalidation_0-error:0.386625\tvalidation_0-logloss:0.661772\n",
      "[207]\tvalidation_0-auc:0.611908\tvalidation_0-error:0.386108\tvalidation_0-logloss:0.661726\n",
      "[208]\tvalidation_0-auc:0.612019\tvalidation_0-error:0.387143\tvalidation_0-logloss:0.661702\n",
      "[209]\tvalidation_0-auc:0.612097\tvalidation_0-error:0.386625\tvalidation_0-logloss:0.661669\n",
      "[210]\tvalidation_0-auc:0.611987\tvalidation_0-error:0.386625\tvalidation_0-logloss:0.661685\n",
      "[211]\tvalidation_0-auc:0.612125\tvalidation_0-error:0.386884\tvalidation_0-logloss:0.661691\n",
      "[212]\tvalidation_0-auc:0.612094\tvalidation_0-error:0.387013\tvalidation_0-logloss:0.66173\n",
      "[213]\tvalidation_0-auc:0.611992\tvalidation_0-error:0.386625\tvalidation_0-logloss:0.661789\n",
      "[214]\tvalidation_0-auc:0.61206\tvalidation_0-error:0.386496\tvalidation_0-logloss:0.661774\n",
      "[215]\tvalidation_0-auc:0.611962\tvalidation_0-error:0.38766\tvalidation_0-logloss:0.66188\n",
      "[216]\tvalidation_0-auc:0.611864\tvalidation_0-error:0.388307\tvalidation_0-logloss:0.661936\n",
      "[217]\tvalidation_0-auc:0.611985\tvalidation_0-error:0.38766\tvalidation_0-logloss:0.661886\n",
      "[218]\tvalidation_0-auc:0.612027\tvalidation_0-error:0.387789\tvalidation_0-logloss:0.661901\n",
      "[219]\tvalidation_0-auc:0.612008\tvalidation_0-error:0.388436\tvalidation_0-logloss:0.661881\n",
      "[220]\tvalidation_0-auc:0.611942\tvalidation_0-error:0.387789\tvalidation_0-logloss:0.66189\n",
      "[221]\tvalidation_0-auc:0.612047\tvalidation_0-error:0.388954\tvalidation_0-logloss:0.661841\n",
      "[222]\tvalidation_0-auc:0.612033\tvalidation_0-error:0.388824\tvalidation_0-logloss:0.661838\n",
      "[223]\tvalidation_0-auc:0.612057\tvalidation_0-error:0.388177\tvalidation_0-logloss:0.661783\n",
      "[224]\tvalidation_0-auc:0.611993\tvalidation_0-error:0.388436\tvalidation_0-logloss:0.661819\n",
      "[225]\tvalidation_0-auc:0.611981\tvalidation_0-error:0.38766\tvalidation_0-logloss:0.661813\n",
      "[226]\tvalidation_0-auc:0.612122\tvalidation_0-error:0.387789\tvalidation_0-logloss:0.661751\n",
      "[227]\tvalidation_0-auc:0.612022\tvalidation_0-error:0.388436\tvalidation_0-logloss:0.661833\n",
      "[228]\tvalidation_0-auc:0.612242\tvalidation_0-error:0.389471\tvalidation_0-logloss:0.661808\n",
      "[229]\tvalidation_0-auc:0.612321\tvalidation_0-error:0.389083\tvalidation_0-logloss:0.661802\n",
      "[230]\tvalidation_0-auc:0.612442\tvalidation_0-error:0.389342\tvalidation_0-logloss:0.661789\n",
      "[231]\tvalidation_0-auc:0.612591\tvalidation_0-error:0.388954\tvalidation_0-logloss:0.661755\n",
      "[232]\tvalidation_0-auc:0.612599\tvalidation_0-error:0.389083\tvalidation_0-logloss:0.661784\n",
      "[233]\tvalidation_0-auc:0.612538\tvalidation_0-error:0.38973\tvalidation_0-logloss:0.661787\n",
      "[234]\tvalidation_0-auc:0.612479\tvalidation_0-error:0.390118\tvalidation_0-logloss:0.661803\n",
      "[235]\tvalidation_0-auc:0.612446\tvalidation_0-error:0.390376\tvalidation_0-logloss:0.661844\n",
      "[236]\tvalidation_0-auc:0.612598\tvalidation_0-error:0.390506\tvalidation_0-logloss:0.66183\n",
      "[237]\tvalidation_0-auc:0.612544\tvalidation_0-error:0.390506\tvalidation_0-logloss:0.661861\n",
      "[238]\tvalidation_0-auc:0.612509\tvalidation_0-error:0.390376\tvalidation_0-logloss:0.66193\n",
      "[239]\tvalidation_0-auc:0.612482\tvalidation_0-error:0.390894\tvalidation_0-logloss:0.662004\n",
      "[240]\tvalidation_0-auc:0.612551\tvalidation_0-error:0.391153\tvalidation_0-logloss:0.662006\n",
      "[241]\tvalidation_0-auc:0.612432\tvalidation_0-error:0.391023\tvalidation_0-logloss:0.662003\n",
      "[242]\tvalidation_0-auc:0.612425\tvalidation_0-error:0.390894\tvalidation_0-logloss:0.66203\n",
      "[243]\tvalidation_0-auc:0.612549\tvalidation_0-error:0.390764\tvalidation_0-logloss:0.661968\n",
      "[244]\tvalidation_0-auc:0.612533\tvalidation_0-error:0.390376\tvalidation_0-logloss:0.66198\n",
      "[245]\tvalidation_0-auc:0.612544\tvalidation_0-error:0.390376\tvalidation_0-logloss:0.661992\n",
      "[246]\tvalidation_0-auc:0.612567\tvalidation_0-error:0.390376\tvalidation_0-logloss:0.661956\n",
      "[247]\tvalidation_0-auc:0.612614\tvalidation_0-error:0.390118\tvalidation_0-logloss:0.661945\n",
      "[248]\tvalidation_0-auc:0.612523\tvalidation_0-error:0.390118\tvalidation_0-logloss:0.662012\n",
      "[249]\tvalidation_0-auc:0.61244\tvalidation_0-error:0.390247\tvalidation_0-logloss:0.662035\n",
      "[250]\tvalidation_0-auc:0.61247\tvalidation_0-error:0.390506\tvalidation_0-logloss:0.662062\n",
      "[251]\tvalidation_0-auc:0.612464\tvalidation_0-error:0.389859\tvalidation_0-logloss:0.662114\n",
      "[252]\tvalidation_0-auc:0.612434\tvalidation_0-error:0.390376\tvalidation_0-logloss:0.662151\n",
      "[253]\tvalidation_0-auc:0.61254\tvalidation_0-error:0.390118\tvalidation_0-logloss:0.662128\n",
      "[254]\tvalidation_0-auc:0.612503\tvalidation_0-error:0.390635\tvalidation_0-logloss:0.662169\n",
      "[255]\tvalidation_0-auc:0.612558\tvalidation_0-error:0.390118\tvalidation_0-logloss:0.662148\n",
      "[256]\tvalidation_0-auc:0.61267\tvalidation_0-error:0.389859\tvalidation_0-logloss:0.662081\n",
      "[257]\tvalidation_0-auc:0.612725\tvalidation_0-error:0.3896\tvalidation_0-logloss:0.66205\n",
      "[258]\tvalidation_0-auc:0.612725\tvalidation_0-error:0.390118\tvalidation_0-logloss:0.662021\n",
      "[259]\tvalidation_0-auc:0.61279\tvalidation_0-error:0.38973\tvalidation_0-logloss:0.662023\n",
      "[260]\tvalidation_0-auc:0.612886\tvalidation_0-error:0.388954\tvalidation_0-logloss:0.662038\n",
      "[261]\tvalidation_0-auc:0.612804\tvalidation_0-error:0.389988\tvalidation_0-logloss:0.662032\n",
      "[262]\tvalidation_0-auc:0.612732\tvalidation_0-error:0.38973\tvalidation_0-logloss:0.662064\n",
      "[263]\tvalidation_0-auc:0.612729\tvalidation_0-error:0.389471\tvalidation_0-logloss:0.662042\n",
      "[264]\tvalidation_0-auc:0.612729\tvalidation_0-error:0.389342\tvalidation_0-logloss:0.662081\n",
      "[265]\tvalidation_0-auc:0.612789\tvalidation_0-error:0.389342\tvalidation_0-logloss:0.66204\n",
      "[266]\tvalidation_0-auc:0.61277\tvalidation_0-error:0.388824\tvalidation_0-logloss:0.662016\n",
      "[267]\tvalidation_0-auc:0.612708\tvalidation_0-error:0.388436\tvalidation_0-logloss:0.662042\n",
      "[268]\tvalidation_0-auc:0.612687\tvalidation_0-error:0.388695\tvalidation_0-logloss:0.66207\n",
      "[269]\tvalidation_0-auc:0.612658\tvalidation_0-error:0.389471\tvalidation_0-logloss:0.662099\n",
      "[270]\tvalidation_0-auc:0.612722\tvalidation_0-error:0.389083\tvalidation_0-logloss:0.662107\n",
      "[271]\tvalidation_0-auc:0.612688\tvalidation_0-error:0.389212\tvalidation_0-logloss:0.662158\n",
      "[272]\tvalidation_0-auc:0.612692\tvalidation_0-error:0.3896\tvalidation_0-logloss:0.662185\n",
      "[273]\tvalidation_0-auc:0.61268\tvalidation_0-error:0.38973\tvalidation_0-logloss:0.662219\n",
      "[274]\tvalidation_0-auc:0.612627\tvalidation_0-error:0.3896\tvalidation_0-logloss:0.662269\n",
      "[275]\tvalidation_0-auc:0.61257\tvalidation_0-error:0.389212\tvalidation_0-logloss:0.662284\n",
      "[276]\tvalidation_0-auc:0.612574\tvalidation_0-error:0.389471\tvalidation_0-logloss:0.662315\n"
     ]
    },
    {
     "name": "stdout",
     "output_type": "stream",
     "text": [
      "[277]\tvalidation_0-auc:0.612572\tvalidation_0-error:0.389471\tvalidation_0-logloss:0.66229\n",
      "[278]\tvalidation_0-auc:0.612629\tvalidation_0-error:0.390247\tvalidation_0-logloss:0.662292\n",
      "[279]\tvalidation_0-auc:0.612715\tvalidation_0-error:0.389471\tvalidation_0-logloss:0.66224\n",
      "[280]\tvalidation_0-auc:0.612662\tvalidation_0-error:0.389083\tvalidation_0-logloss:0.662239\n",
      "[281]\tvalidation_0-auc:0.61269\tvalidation_0-error:0.389342\tvalidation_0-logloss:0.662303\n",
      "[282]\tvalidation_0-auc:0.612574\tvalidation_0-error:0.389471\tvalidation_0-logloss:0.662353\n",
      "[283]\tvalidation_0-auc:0.612625\tvalidation_0-error:0.3896\tvalidation_0-logloss:0.662348\n",
      "[284]\tvalidation_0-auc:0.612644\tvalidation_0-error:0.389212\tvalidation_0-logloss:0.662353\n",
      "[285]\tvalidation_0-auc:0.612625\tvalidation_0-error:0.388824\tvalidation_0-logloss:0.662367\n",
      "[286]\tvalidation_0-auc:0.612673\tvalidation_0-error:0.388566\tvalidation_0-logloss:0.662394\n",
      "[287]\tvalidation_0-auc:0.612676\tvalidation_0-error:0.388824\tvalidation_0-logloss:0.662384\n",
      "[288]\tvalidation_0-auc:0.612646\tvalidation_0-error:0.388824\tvalidation_0-logloss:0.662376\n",
      "[289]\tvalidation_0-auc:0.612619\tvalidation_0-error:0.388436\tvalidation_0-logloss:0.66239\n",
      "[290]\tvalidation_0-auc:0.61261\tvalidation_0-error:0.388436\tvalidation_0-logloss:0.662378\n",
      "[291]\tvalidation_0-auc:0.612545\tvalidation_0-error:0.387919\tvalidation_0-logloss:0.662408\n",
      "[292]\tvalidation_0-auc:0.612622\tvalidation_0-error:0.388177\tvalidation_0-logloss:0.662379\n",
      "[293]\tvalidation_0-auc:0.612553\tvalidation_0-error:0.388307\tvalidation_0-logloss:0.662375\n",
      "[294]\tvalidation_0-auc:0.612653\tvalidation_0-error:0.388177\tvalidation_0-logloss:0.662331\n",
      "[295]\tvalidation_0-auc:0.612641\tvalidation_0-error:0.388048\tvalidation_0-logloss:0.662359\n",
      "[296]\tvalidation_0-auc:0.612541\tvalidation_0-error:0.387919\tvalidation_0-logloss:0.662385\n",
      "[297]\tvalidation_0-auc:0.612636\tvalidation_0-error:0.387919\tvalidation_0-logloss:0.662392\n",
      "[298]\tvalidation_0-auc:0.612695\tvalidation_0-error:0.387789\tvalidation_0-logloss:0.662344\n",
      "[299]\tvalidation_0-auc:0.612682\tvalidation_0-error:0.38766\tvalidation_0-logloss:0.662355\n"
     ]
    },
    {
     "data": {
      "text/plain": [
       "XGBClassifier(base_score=0.5, booster='gbtree', colsample_bylevel=1,\n",
       "              colsample_bynode=1, colsample_bytree=0.8, gamma=5,\n",
       "              learning_rate=0.02, max_delta_step=0, max_depth=5,\n",
       "              min_child_weight=2, missing=None, n_estimators=300, n_jobs=1,\n",
       "              nthread=1, objective='binary:logistic', random_state=0,\n",
       "              reg_alpha=0, reg_lambda=1, scale_pos_weight=1, seed=None,\n",
       "              silent=True, subsample=0.4, tree_method='exact', verbosity=1)"
      ]
     },
     "execution_count": 124,
     "metadata": {},
     "output_type": "execute_result"
    }
   ],
   "source": [
    "eval_set =[(x_oot[sorted(x_train.columns)], y_oot)]\n",
    "xgb_clf.fit(x_train,y_train,eval_set =eval_set ,eval_metric=[\"auc\",\"error\",\"logloss\"])"
   ]
  },
  {
   "cell_type": "code",
   "execution_count": 125,
   "metadata": {},
   "outputs": [
    {
     "name": "stdout",
     "output_type": "stream",
     "text": [
      "0.7143205235074567\n",
      "0.7205562372267755\n",
      "0.7159120342296711\n",
      "0.6248270852617505\n",
      "0.6126819427764868\n"
     ]
    }
   ],
   "source": [
    "# train, test and oot auc\n",
    "y_pro_train_v2 =xgb_clf.predict_proba(x_train_v2[sorted(x_train.columns)])[:, 1]\n",
    "train_pro_v2 =metrics.roc_auc_score(y_train_v2,y_pro_train_v2)\n",
    "print(train_pro_v2)\n",
    "y_pro_test_v2 =xgb_clf.predict_proba(x_test_v2[sorted(x_train.columns)])[:, 1]\n",
    "test_pro_v2 =metrics.roc_auc_score(y_test_v2,y_pro_test_v2)\n",
    "print(test_pro_v2)\n",
    "y_pro_train =xgb_clf.predict_proba(x_train[sorted(x_train.columns)])[:, 1]\n",
    "train_pro =metrics.roc_auc_score(y_train,y_pro_train)\n",
    "print(train_pro)\n",
    "y_pro_test =xgb_clf.predict_proba(x_test[sorted(x_train.columns)])[:, 1]\n",
    "test_pro =metrics.roc_auc_score(y_test,y_pro_test)\n",
    "print(test_pro)\n",
    "y_pro_oot =xgb_clf.predict_proba(x_oot[sorted(x_train.columns)])[:, 1]\n",
    "oot_pro =metrics.roc_auc_score(y_oot, y_pro_oot)\n",
    "print(oot_pro)"
   ]
  },
  {
   "cell_type": "code",
   "execution_count": 126,
   "metadata": {},
   "outputs": [
    {
     "data": {
      "text/plain": [
       "Index(['age', 'avg_3_mon_income', 'avg_6_mon_income', 'avg_9_12_debit_amount',\n",
       "       'avg_9_12_debit_amount_per_count', 'avg_9_12_debit_count',\n",
       "       'avg_balance_3_month', 'avg_balance_6_month',\n",
       "       'avg_cashwithdrawl_6_month', 'avg_cc_spend_count',\n",
       "       'avg_diff_credit_debit', 'avg_six_monthly_emi',\n",
       "       'avg_twelve_monthly_emi', 'count_name_match', 'credit_sum_avg',\n",
       "       'customer_first_name_messages', 'debit_sum_avg',\n",
       "       'device_present_age_in_days', 'diff_credit_debit',\n",
       "       'estimated_income_v2', 'kreditb_loan_overdue_before_fa',\n",
       "       'last_mon_9_12_debit_amount', 'last_mon_income',\n",
       "       'last_month_max_overall', 'last_six_month_count_loans_pl',\n",
       "       'last_twelve_month_max_overall', 'number_of_application',\n",
       "       'primary_bank_avg_balance', 'primary_bank_avg_balance_3_mon',\n",
       "       'primary_bank_max_balance', 'six_month_sum_overdue_overall',\n",
       "       'three_month_sum_overdue_overall', 'total_contacts',\n",
       "       'total_credit_count', 'total_debit_count', 'total_income',\n",
       "       'total_loan_rejected', 'twelve_month_sum_overdue_overall'],\n",
       "      dtype='object')"
      ]
     },
     "execution_count": 126,
     "metadata": {},
     "output_type": "execute_result"
    }
   ],
   "source": [
    "x_train.columns"
   ]
  },
  {
   "cell_type": "code",
   "execution_count": 127,
   "metadata": {},
   "outputs": [],
   "source": [
    "Xgboostmodel  = \"Xgboostmodel_non_repeat_30_04_2020_1233\"\n",
    "xgb_clf._Booster.save_model(Xgboostmodel)"
   ]
  },
  {
   "cell_type": "code",
   "execution_count": 128,
   "metadata": {},
   "outputs": [
    {
     "name": "stdout",
     "output_type": "stream",
     "text": [
      "(24409, 39)\n"
     ]
    }
   ],
   "source": [
    "print(Data_train.shape)\n",
    "y_pro_train =xgb_clf.predict_proba(x_train)[:, 1]"
   ]
  },
  {
   "cell_type": "markdown",
   "metadata": {},
   "source": [
    "# POST MODEL BUILDING ANALYSIS\n",
    "Here, we check the model stability. This is done by using PSI calculation \n",
    "1.Population Stability Index\n",
    "<br> i) PSI score gives us the model stability indication. It is calculated between Train_Test_data and Train_OOT data. Lower the PSI stable is the model\n",
    "<br> a) PSI score < 0.1 - The model is stable\n",
    "<br> b) PSI score > 0.2 - The model is unstable and should'nt be used \n",
    "<br> c) PSI score >=0.1 and <0.2 - The model is bit stable and can be corrected by fine tuning\n",
    "\n",
    "<br> https://www.listendata.com/2015/05/population-stability-index.html - for reference"
   ]
  },
  {
   "cell_type": "code",
   "execution_count": 129,
   "metadata": {},
   "outputs": [
    {
     "name": "stdout",
     "output_type": "stream",
     "text": [
      "(24409, 39)\n",
      "(12022, 39)\n",
      "(7731, 39)\n",
      "(24409, 40)\n",
      "(12022, 40)\n",
      "(7731, 40)\n"
     ]
    }
   ],
   "source": [
    "print(Data_train.shape)\n",
    "print(Data_test.shape)\n",
    "print(Data_OOT.shape)\n",
    "#print(Data_OOT2.shape)\n",
    "Data_train_final = Data_train\n",
    "Data_test_final = Data_test\n",
    "Data_OOT_final = Data_OOT\n",
    "#Data_OOT2_final = Data_OOT2\n",
    "Data_train_final['predicted_vals'] = y_pro_train.tolist()\n",
    "Data_test_final['predicted_vals'] = y_pro_test.tolist()\n",
    "Data_OOT_final['predicted_vals'] = y_pro_oot.tolist()\n",
    "#Data_OOT2_final['predicted_vals'] = y_pro_oot2.tolist()\n",
    "print(Data_train_final.shape)\n",
    "print(Data_test_final.shape)\n",
    "print(Data_OOT_final.shape)\n",
    "#print(Data_OOT2_final.shape)"
   ]
  },
  {
   "cell_type": "code",
   "execution_count": 130,
   "metadata": {},
   "outputs": [],
   "source": [
    "Data_train_final['user_id']=Data_train_user_ids.tolist()\n",
    "Data_test_final['user_id']=Data_test_user_ids.tolist()\n",
    "Data_OOT_final['user_id']=Data_OOT_user_ids.tolist()\n",
    "Data_train_final.to_csv('Data_train_final.csv', index=False)\n",
    "Data_test_final.to_csv('Data_test_final.csv', index=False)\n",
    "Data_OOT_final.to_csv('Data_OOT_final.csv', index=False)"
   ]
  },
  {
   "cell_type": "markdown",
   "metadata": {},
   "source": [
    " **N** **Tiles** **Distribution**"
   ]
  },
  {
   "cell_type": "code",
   "execution_count": 131,
   "metadata": {},
   "outputs": [],
   "source": [
    "def n_tile(df1,df2,df3,bins):\n",
    "    quantiles = list(df1.quantile(list(np.array(range(0,105,int(100/bins)))/100)))\n",
    "    \n",
    "    labels = list(range(1,bins+1,1))\n",
    "    distiribution_1 = np.array(pd.cut(x=df1, bins=quantiles, labels=labels).value_counts(sort=False))/df1.shape[0]\n",
    "    distiribution_2 = np.array(pd.cut(x=df2, bins=quantiles, labels=labels).value_counts(sort=False))/df2.shape[0]\n",
    "    distiribution_3 = np.array(pd.cut(x=df3, bins=quantiles, labels=labels).value_counts(sort=False))/df3.shape[0]\n",
    "    \n",
    "    distribution = pd.DataFrame()\n",
    "    distribution['bands'] = labels\n",
    "    distribution['cuts'] = quantiles[1:]\n",
    "    distribution['train'] = distiribution_1\n",
    "    distribution['test'] = distiribution_2\n",
    "    distribution['oot'] = distiribution_3\n",
    "    return distribution"
   ]
  },
  {
   "cell_type": "code",
   "execution_count": 132,
   "metadata": {},
   "outputs": [],
   "source": [
    "a = n_tile(Data_train_final['predicted_vals'],Data_test_final['predicted_vals'],Data_OOT_final['predicted_vals'],20)\n",
    "b = n_tile(Data_train_final['predicted_vals'],Data_test_final['predicted_vals'],Data_OOT_final['predicted_vals'],10)\n",
    "writer = pd.ExcelWriter('Bands.xlsx', engine='xlsxwriter')\n",
    "a.to_excel(writer, sheet_name='N_Tile',index=False)\n",
    "b.to_excel(writer, sheet_name='Decile',index=False)\n"
   ]
  },
  {
   "cell_type": "code",
   "execution_count": 133,
   "metadata": {},
   "outputs": [],
   "source": [
    "########### Making the n_tiles for the predicted values ###########\n",
    "## BANDS ##\n",
    "def band(x):\n",
    "    if(x<a['cuts'][0]):\n",
    "        return 1\n",
    "    elif(x>=a['cuts'][0] and x<a['cuts'][1]):\n",
    "        return 2\n",
    "    elif(x>=a['cuts'][1] and x<a['cuts'][2]):\n",
    "        return 3\n",
    "    elif(x>=a['cuts'][2] and x<a['cuts'][3]):\n",
    "        return 4\n",
    "    elif(x>=a['cuts'][3] and x<a['cuts'][4]):\n",
    "        return 5\n",
    "    elif(x>=a['cuts'][4] and x<a['cuts'][5]):\n",
    "        return 6\n",
    "    elif(x>=a['cuts'][5] and x<a['cuts'][6]):\n",
    "        return 7\n",
    "    elif(x>=a['cuts'][6] and x<a['cuts'][7]):\n",
    "        return 8\n",
    "    elif(x>=a['cuts'][7] and x<a['cuts'][8]):\n",
    "        return 9\n",
    "    elif(x>=a['cuts'][8] and x<a['cuts'][9]):\n",
    "        return 10\n",
    "    elif(x>=a['cuts'][9] and x<a['cuts'][10]):\n",
    "        return 11\n",
    "    elif(x>=a['cuts'][10] and x<a['cuts'][11]):\n",
    "        return 12\n",
    "    elif(x>=a['cuts'][11] and x<a['cuts'][12]):\n",
    "        return 13\n",
    "    elif(x>=a['cuts'][12] and x<a['cuts'][13]):\n",
    "        return 14\n",
    "    elif(x>=a['cuts'][13] and x<a['cuts'][14]):\n",
    "        return 15\n",
    "    elif(x>=a['cuts'][14] and x<a['cuts'][15]):\n",
    "        return 16\n",
    "    elif(x>=a['cuts'][15] and x<a['cuts'][16]):\n",
    "        return 17\n",
    "    elif(x>=a['cuts'][16] and x<a['cuts'][17]):\n",
    "        return 18\n",
    "    elif(x>=a['cuts'][17] and x<a['cuts'][18]):\n",
    "        return 19\n",
    "    elif(x>=a['cuts'][18] and x<a['cuts'][19]):\n",
    "        return 20\n",
    "    else:\n",
    "        return np.nan\n",
    "    \n",
    "Data_test_final['Bins'] = Data_test_final.apply(lambda x:band(x['predicted_vals']),axis=1)\n",
    "Data_OOT_final['Bins'] = Data_OOT_final.apply(lambda x:band(x['predicted_vals']),axis=1)"
   ]
  },
  {
   "cell_type": "code",
   "execution_count": 134,
   "metadata": {},
   "outputs": [],
   "source": [
    "TEST = pd.crosstab(Data_test_final['Bins'],Data_test_final['t_flag']).reset_index()\n",
    "TEST['grand_total'] = TEST[0] + TEST[1]\n",
    "TEST['bad_rate'] = (TEST[1]/TEST['grand_total'])*100\n",
    "TEST['population_dist'] = (TEST['grand_total']/sum(TEST['grand_total']))*100\n",
    "\n",
    "OOT = pd.crosstab(Data_OOT_final['Bins'],Data_OOT_final['t_flag']).reset_index()\n",
    "OOT['grand_total'] = OOT[0] + OOT[1]\n",
    "OOT['bad_rate'] = (OOT[1]/OOT['grand_total'])*100\n",
    "OOT['population_dist'] = (OOT['grand_total']/sum(OOT['grand_total']))*100"
   ]
  },
  {
   "cell_type": "code",
   "execution_count": 135,
   "metadata": {},
   "outputs": [],
   "source": [
    "writer = pd.ExcelWriter('POST_ANALYSIS.xlsx', engine='xlsxwriter')\n",
    "\n",
    "n_tile(Data_train_final['predicted_vals'],Data_test_final['predicted_vals'],Data_OOT_final['predicted_vals'],20).to_excel(writer, sheet_name='n_tile_cuts',index=False)\n",
    "TEST.to_excel(writer, sheet_name='crosstab_test',index=False)\n",
    "OOT.to_excel(writer, sheet_name='crosstab_OOT',index=False)\n",
    "\n",
    "writer.save()\n",
    "writer.close()"
   ]
  },
  {
   "cell_type": "markdown",
   "metadata": {},
   "source": [
    "**Model** **Run** "
   ]
  },
  {
   "cell_type": "code",
   "execution_count": 136,
   "metadata": {},
   "outputs": [],
   "source": [
    "Data =pd.read_csv('Covid_data.csv')\n",
    "Data[sorted(x_train.columns)] =Data[sorted(x_train.columns)].apply(pd.to_numeric, errors ='coerce').fillna(0)"
   ]
  },
  {
   "cell_type": "code",
   "execution_count": 137,
   "metadata": {},
   "outputs": [],
   "source": [
    "Data['predict_prob'] =xgb_clf.predict_proba(Data[sorted(x_train.columns)])[:, 1]"
   ]
  },
  {
   "cell_type": "code",
   "execution_count": 138,
   "metadata": {},
   "outputs": [],
   "source": [
    "Data['Bins'] = Data.apply(lambda x:band(x['predict_prob']),axis=1)\n"
   ]
  },
  {
   "cell_type": "code",
   "execution_count": 139,
   "metadata": {},
   "outputs": [],
   "source": [
    "Data.to_csv('output_data.csv', index=False)"
   ]
  },
  {
   "cell_type": "code",
   "execution_count": 140,
   "metadata": {},
   "outputs": [
    {
     "data": {
      "text/html": [
       "<div>\n",
       "<style scoped>\n",
       "    .dataframe tbody tr th:only-of-type {\n",
       "        vertical-align: middle;\n",
       "    }\n",
       "\n",
       "    .dataframe tbody tr th {\n",
       "        vertical-align: top;\n",
       "    }\n",
       "\n",
       "    .dataframe thead th {\n",
       "        text-align: right;\n",
       "    }\n",
       "</style>\n",
       "<table border=\"1\" class=\"dataframe\">\n",
       "  <thead>\n",
       "    <tr style=\"text-align: right;\">\n",
       "      <th></th>\n",
       "      <th>feature</th>\n",
       "      <th>importance</th>\n",
       "    </tr>\n",
       "  </thead>\n",
       "  <tbody>\n",
       "    <tr>\n",
       "      <td>25</td>\n",
       "      <td>customer_first_name_messages</td>\n",
       "      <td>166</td>\n",
       "    </tr>\n",
       "    <tr>\n",
       "      <td>23</td>\n",
       "      <td>total_credit_count</td>\n",
       "      <td>149</td>\n",
       "    </tr>\n",
       "    <tr>\n",
       "      <td>4</td>\n",
       "      <td>device_present_age_in_days</td>\n",
       "      <td>129</td>\n",
       "    </tr>\n",
       "    <tr>\n",
       "      <td>28</td>\n",
       "      <td>number_of_application</td>\n",
       "      <td>125</td>\n",
       "    </tr>\n",
       "    <tr>\n",
       "      <td>1</td>\n",
       "      <td>total_contacts</td>\n",
       "      <td>121</td>\n",
       "    </tr>\n",
       "    <tr>\n",
       "      <td>...</td>\n",
       "      <td>...</td>\n",
       "      <td>...</td>\n",
       "    </tr>\n",
       "    <tr>\n",
       "      <td>48</td>\n",
       "      <td>is_wonderland</td>\n",
       "      <td>6</td>\n",
       "    </tr>\n",
       "    <tr>\n",
       "      <td>61</td>\n",
       "      <td>last_mon_12_4_debit_count</td>\n",
       "      <td>5</td>\n",
       "    </tr>\n",
       "    <tr>\n",
       "      <td>71</td>\n",
       "      <td>total_loan_approval_before_fa</td>\n",
       "      <td>5</td>\n",
       "    </tr>\n",
       "    <tr>\n",
       "      <td>72</td>\n",
       "      <td>count_loan_overdues</td>\n",
       "      <td>3</td>\n",
       "    </tr>\n",
       "    <tr>\n",
       "      <td>68</td>\n",
       "      <td>number_of_devices_2w</td>\n",
       "      <td>2</td>\n",
       "    </tr>\n",
       "  </tbody>\n",
       "</table>\n",
       "<p>73 rows × 2 columns</p>\n",
       "</div>"
      ],
      "text/plain": [
       "                          feature  importance\n",
       "25   customer_first_name_messages         166\n",
       "23             total_credit_count         149\n",
       "4      device_present_age_in_days         129\n",
       "28          number_of_application         125\n",
       "1                  total_contacts         121\n",
       "..                            ...         ...\n",
       "48                  is_wonderland           6\n",
       "61      last_mon_12_4_debit_count           5\n",
       "71  total_loan_approval_before_fa           5\n",
       "72            count_loan_overdues           3\n",
       "68           number_of_devices_2w           2\n",
       "\n",
       "[73 rows x 2 columns]"
      ]
     },
     "execution_count": 140,
     "metadata": {},
     "output_type": "execute_result"
    }
   ],
   "source": [
    "xgb_fea_imp"
   ]
  },
  {
   "cell_type": "code",
   "execution_count": 141,
   "metadata": {},
   "outputs": [],
   "source": [
    "num_col_final = sorted(x_train.columns)\n",
    "k = pd.DataFrame(num_col_final)\n",
    "k.to_csv(r'Final_numberic_column.csv')"
   ]
  },
  {
   "cell_type": "code",
   "execution_count": 142,
   "metadata": {},
   "outputs": [
    {
     "name": "stdout",
     "output_type": "stream",
     "text": [
      "20\n",
      "0.7033332076388287\n",
      "0.6181052808099098\n",
      "/n\n",
      "21\n",
      "0.7025045275500272\n",
      "0.6178071525102065\n",
      "/n\n",
      "22\n",
      "0.7038731130961784\n",
      "0.6180640834324189\n",
      "/n\n",
      "23\n",
      "0.7054528959844002\n",
      "0.6184279532581299\n",
      "/n\n",
      "24\n",
      "0.7063956693147442\n",
      "0.6186297122909414\n",
      "/n\n",
      "25\n",
      "0.7081816659277869\n",
      "0.6186443484136929\n",
      "/n\n",
      "26\n",
      "0.7085328529764968\n",
      "0.6185887731030472\n",
      "/n\n",
      "27\n",
      "0.7088649344605074\n",
      "0.6183286417056281\n",
      "/n\n",
      "28\n",
      "0.709525778414177\n",
      "0.6182983743543888\n",
      "/n\n",
      "29\n",
      "0.7122803259224533\n",
      "0.6194336609049291\n",
      "/n\n",
      "30\n",
      "0.7127107582605918\n",
      "0.6191404059338597\n",
      "/n\n",
      "31\n",
      "0.7132192299003447\n",
      "0.6188562413881666\n",
      "/n\n",
      "32\n",
      "0.7137521304369243\n",
      "0.620136813376235\n",
      "/n\n",
      "33\n",
      "0.7141000222513245\n",
      "0.6204412565631526\n",
      "/n\n",
      "34\n",
      "0.7139489986054705\n",
      "0.6197389163132858\n",
      "/n\n",
      "35\n",
      "0.7164542599396326\n",
      "0.6211119147979496\n",
      "/n\n",
      "36\n",
      "0.7154546285302745\n",
      "0.6205674413494899\n",
      "/n\n",
      "37\n",
      "0.7172691747816058\n",
      "0.620323505970301\n",
      "/n\n",
      "38\n",
      "0.7161535443302436\n",
      "0.6205136948818195\n",
      "/n\n"
     ]
    },
    {
     "ename": "KeyError",
     "evalue": "\"['twelve_month_sum_emi_overall'] not in index\"",
     "output_type": "error",
     "traceback": [
      "\u001b[1;31m---------------------------------------------------------------------------\u001b[0m",
      "\u001b[1;31mKeyError\u001b[0m                                  Traceback (most recent call last)",
      "\u001b[1;32m<ipython-input-142-6a6b6e239dc1>\u001b[0m in \u001b[0;36m<module>\u001b[1;34m\u001b[0m\n\u001b[0;32m      8\u001b[0m  \u001b[0mnumeric_cols\u001b[0m \u001b[1;33m=\u001b[0m \u001b[0mtop_xgb_vars\u001b[0m\u001b[1;33m\u001b[0m\u001b[1;33m\u001b[0m\u001b[0m\n\u001b[0;32m      9\u001b[0m  \u001b[0my_train\u001b[0m \u001b[1;33m=\u001b[0m\u001b[0mData_train\u001b[0m\u001b[1;33m[\u001b[0m\u001b[1;34m\"t_flag\"\u001b[0m\u001b[1;33m]\u001b[0m\u001b[1;33m\u001b[0m\u001b[1;33m\u001b[0m\u001b[0m\n\u001b[1;32m---> 10\u001b[1;33m  \u001b[0mx_train\u001b[0m \u001b[1;33m=\u001b[0m\u001b[0mData_train\u001b[0m\u001b[1;33m[\u001b[0m\u001b[0mnumeric_cols\u001b[0m\u001b[1;33m]\u001b[0m\u001b[1;33m\u001b[0m\u001b[1;33m\u001b[0m\u001b[0m\n\u001b[0m\u001b[0;32m     11\u001b[0m  \u001b[1;31m#test data\u001b[0m\u001b[1;33m\u001b[0m\u001b[1;33m\u001b[0m\u001b[1;33m\u001b[0m\u001b[0m\n\u001b[0;32m     12\u001b[0m  \u001b[0my_test\u001b[0m \u001b[1;33m=\u001b[0m\u001b[0mData_test\u001b[0m\u001b[1;33m[\u001b[0m\u001b[1;34m\"t_flag\"\u001b[0m\u001b[1;33m]\u001b[0m\u001b[1;33m\u001b[0m\u001b[1;33m\u001b[0m\u001b[0m\n",
      "\u001b[1;32m~\\Anaconda3\\lib\\site-packages\\pandas\\core\\frame.py\u001b[0m in \u001b[0;36m__getitem__\u001b[1;34m(self, key)\u001b[0m\n\u001b[0;32m   2984\u001b[0m             \u001b[1;32mif\u001b[0m \u001b[0mis_iterator\u001b[0m\u001b[1;33m(\u001b[0m\u001b[0mkey\u001b[0m\u001b[1;33m)\u001b[0m\u001b[1;33m:\u001b[0m\u001b[1;33m\u001b[0m\u001b[1;33m\u001b[0m\u001b[0m\n\u001b[0;32m   2985\u001b[0m                 \u001b[0mkey\u001b[0m \u001b[1;33m=\u001b[0m \u001b[0mlist\u001b[0m\u001b[1;33m(\u001b[0m\u001b[0mkey\u001b[0m\u001b[1;33m)\u001b[0m\u001b[1;33m\u001b[0m\u001b[1;33m\u001b[0m\u001b[0m\n\u001b[1;32m-> 2986\u001b[1;33m             \u001b[0mindexer\u001b[0m \u001b[1;33m=\u001b[0m \u001b[0mself\u001b[0m\u001b[1;33m.\u001b[0m\u001b[0mloc\u001b[0m\u001b[1;33m.\u001b[0m\u001b[0m_convert_to_indexer\u001b[0m\u001b[1;33m(\u001b[0m\u001b[0mkey\u001b[0m\u001b[1;33m,\u001b[0m \u001b[0maxis\u001b[0m\u001b[1;33m=\u001b[0m\u001b[1;36m1\u001b[0m\u001b[1;33m,\u001b[0m \u001b[0mraise_missing\u001b[0m\u001b[1;33m=\u001b[0m\u001b[1;32mTrue\u001b[0m\u001b[1;33m)\u001b[0m\u001b[1;33m\u001b[0m\u001b[1;33m\u001b[0m\u001b[0m\n\u001b[0m\u001b[0;32m   2987\u001b[0m \u001b[1;33m\u001b[0m\u001b[0m\n\u001b[0;32m   2988\u001b[0m         \u001b[1;31m# take() does not accept boolean indexers\u001b[0m\u001b[1;33m\u001b[0m\u001b[1;33m\u001b[0m\u001b[1;33m\u001b[0m\u001b[0m\n",
      "\u001b[1;32m~\\Anaconda3\\lib\\site-packages\\pandas\\core\\indexing.py\u001b[0m in \u001b[0;36m_convert_to_indexer\u001b[1;34m(self, obj, axis, is_setter, raise_missing)\u001b[0m\n\u001b[0;32m   1283\u001b[0m                 \u001b[1;31m# When setting, missing keys are not allowed, even with .loc:\u001b[0m\u001b[1;33m\u001b[0m\u001b[1;33m\u001b[0m\u001b[1;33m\u001b[0m\u001b[0m\n\u001b[0;32m   1284\u001b[0m                 \u001b[0mkwargs\u001b[0m \u001b[1;33m=\u001b[0m \u001b[1;33m{\u001b[0m\u001b[1;34m\"raise_missing\"\u001b[0m\u001b[1;33m:\u001b[0m \u001b[1;32mTrue\u001b[0m \u001b[1;32mif\u001b[0m \u001b[0mis_setter\u001b[0m \u001b[1;32melse\u001b[0m \u001b[0mraise_missing\u001b[0m\u001b[1;33m}\u001b[0m\u001b[1;33m\u001b[0m\u001b[1;33m\u001b[0m\u001b[0m\n\u001b[1;32m-> 1285\u001b[1;33m                 \u001b[1;32mreturn\u001b[0m \u001b[0mself\u001b[0m\u001b[1;33m.\u001b[0m\u001b[0m_get_listlike_indexer\u001b[0m\u001b[1;33m(\u001b[0m\u001b[0mobj\u001b[0m\u001b[1;33m,\u001b[0m \u001b[0maxis\u001b[0m\u001b[1;33m,\u001b[0m \u001b[1;33m**\u001b[0m\u001b[0mkwargs\u001b[0m\u001b[1;33m)\u001b[0m\u001b[1;33m[\u001b[0m\u001b[1;36m1\u001b[0m\u001b[1;33m]\u001b[0m\u001b[1;33m\u001b[0m\u001b[1;33m\u001b[0m\u001b[0m\n\u001b[0m\u001b[0;32m   1286\u001b[0m         \u001b[1;32melse\u001b[0m\u001b[1;33m:\u001b[0m\u001b[1;33m\u001b[0m\u001b[1;33m\u001b[0m\u001b[0m\n\u001b[0;32m   1287\u001b[0m             \u001b[1;32mtry\u001b[0m\u001b[1;33m:\u001b[0m\u001b[1;33m\u001b[0m\u001b[1;33m\u001b[0m\u001b[0m\n",
      "\u001b[1;32m~\\Anaconda3\\lib\\site-packages\\pandas\\core\\indexing.py\u001b[0m in \u001b[0;36m_get_listlike_indexer\u001b[1;34m(self, key, axis, raise_missing)\u001b[0m\n\u001b[0;32m   1090\u001b[0m \u001b[1;33m\u001b[0m\u001b[0m\n\u001b[0;32m   1091\u001b[0m         self._validate_read_indexer(\n\u001b[1;32m-> 1092\u001b[1;33m             \u001b[0mkeyarr\u001b[0m\u001b[1;33m,\u001b[0m \u001b[0mindexer\u001b[0m\u001b[1;33m,\u001b[0m \u001b[0mo\u001b[0m\u001b[1;33m.\u001b[0m\u001b[0m_get_axis_number\u001b[0m\u001b[1;33m(\u001b[0m\u001b[0maxis\u001b[0m\u001b[1;33m)\u001b[0m\u001b[1;33m,\u001b[0m \u001b[0mraise_missing\u001b[0m\u001b[1;33m=\u001b[0m\u001b[0mraise_missing\u001b[0m\u001b[1;33m\u001b[0m\u001b[1;33m\u001b[0m\u001b[0m\n\u001b[0m\u001b[0;32m   1093\u001b[0m         )\n\u001b[0;32m   1094\u001b[0m         \u001b[1;32mreturn\u001b[0m \u001b[0mkeyarr\u001b[0m\u001b[1;33m,\u001b[0m \u001b[0mindexer\u001b[0m\u001b[1;33m\u001b[0m\u001b[1;33m\u001b[0m\u001b[0m\n",
      "\u001b[1;32m~\\Anaconda3\\lib\\site-packages\\pandas\\core\\indexing.py\u001b[0m in \u001b[0;36m_validate_read_indexer\u001b[1;34m(self, key, indexer, axis, raise_missing)\u001b[0m\n\u001b[0;32m   1183\u001b[0m             \u001b[1;32mif\u001b[0m \u001b[1;32mnot\u001b[0m \u001b[1;33m(\u001b[0m\u001b[0mself\u001b[0m\u001b[1;33m.\u001b[0m\u001b[0mname\u001b[0m \u001b[1;33m==\u001b[0m \u001b[1;34m\"loc\"\u001b[0m \u001b[1;32mand\u001b[0m \u001b[1;32mnot\u001b[0m \u001b[0mraise_missing\u001b[0m\u001b[1;33m)\u001b[0m\u001b[1;33m:\u001b[0m\u001b[1;33m\u001b[0m\u001b[1;33m\u001b[0m\u001b[0m\n\u001b[0;32m   1184\u001b[0m                 \u001b[0mnot_found\u001b[0m \u001b[1;33m=\u001b[0m \u001b[0mlist\u001b[0m\u001b[1;33m(\u001b[0m\u001b[0mset\u001b[0m\u001b[1;33m(\u001b[0m\u001b[0mkey\u001b[0m\u001b[1;33m)\u001b[0m \u001b[1;33m-\u001b[0m \u001b[0mset\u001b[0m\u001b[1;33m(\u001b[0m\u001b[0max\u001b[0m\u001b[1;33m)\u001b[0m\u001b[1;33m)\u001b[0m\u001b[1;33m\u001b[0m\u001b[1;33m\u001b[0m\u001b[0m\n\u001b[1;32m-> 1185\u001b[1;33m                 \u001b[1;32mraise\u001b[0m \u001b[0mKeyError\u001b[0m\u001b[1;33m(\u001b[0m\u001b[1;34m\"{} not in index\"\u001b[0m\u001b[1;33m.\u001b[0m\u001b[0mformat\u001b[0m\u001b[1;33m(\u001b[0m\u001b[0mnot_found\u001b[0m\u001b[1;33m)\u001b[0m\u001b[1;33m)\u001b[0m\u001b[1;33m\u001b[0m\u001b[1;33m\u001b[0m\u001b[0m\n\u001b[0m\u001b[0;32m   1186\u001b[0m \u001b[1;33m\u001b[0m\u001b[0m\n\u001b[0;32m   1187\u001b[0m             \u001b[1;31m# we skip the warning on Categorical/Interval\u001b[0m\u001b[1;33m\u001b[0m\u001b[1;33m\u001b[0m\u001b[1;33m\u001b[0m\u001b[0m\n",
      "\u001b[1;31mKeyError\u001b[0m: \"['twelve_month_sum_emi_overall'] not in index\""
     ]
    }
   ],
   "source": [
    "w, h = 2, len(xgb_fea_imp);\n",
    "testval = [[0 for x in range(w)] for y in range(h)] \n",
    "\n",
    "\n",
    "\n",
    "for i in range(20,len(xgb_fea_imp)):\n",
    " top_xgb_vars = xgb_fea_imp.feature[0:i]\n",
    " numeric_cols = top_xgb_vars\n",
    " y_train =Data_train[\"t_flag\"]\n",
    " x_train =Data_train[numeric_cols]\n",
    " #test data\n",
    " y_test =Data_test[\"t_flag\"]\n",
    " x_test =Data_test[numeric_cols]\n",
    " #Out of Time\n",
    " y_oot =Data_OOT[\"t_flag\"]\n",
    " x_oot =Data_OOT[numeric_cols]\n",
    "\n",
    " print(i)\n",
    " xgb_clf.fit(x_train,y_train)   \n",
    "\n",
    " y_pro_train =xgb_clf.predict_proba(x_train)[:, 1]\n",
    " train_pro = metrics.roc_auc_score(y_train,y_pro_train)\n",
    " train_pro\n",
    " testval[i][0] = train_pro   \n",
    " print(train_pro)\n",
    "\n",
    " y_pro_oot = xgb_clf.predict_proba(x_test)[:, 1]\n",
    "    \n",
    " y_pro_oot = xgb_clf.predict_proba(x_oot)[:, 1]\n",
    "    \n",
    " y_testoot = pd.concat([y_test , y_oot])\n",
    " y_pro_testoot = np.concatenate((y_pro_test , y_pro_oot), axis=0)\n",
    " testoot_pro = metrics.roc_auc_score(y_testoot,y_pro_testoot) \n",
    " testval[i][1] = testoot_pro\n",
    " print(testoot_pro)    \n",
    " print(\"/n\")"
   ]
  },
  {
   "cell_type": "code",
   "execution_count": null,
   "metadata": {},
   "outputs": [],
   "source": [
    "type(y_pro_test)"
   ]
  },
  {
   "cell_type": "code",
   "execution_count": null,
   "metadata": {},
   "outputs": [],
   "source": [
    "w, h = 2, len(xgb_fea_imp);\n",
    "testval = [[0 for x in range(w)] for y in range(h)] \n",
    "\n",
    "\n",
    "\n",
    "for i in range(20,len(xgb_fea_imp)):\n",
    " top_xgb_vars = xgb_fea_imp.feature[0:i]\n",
    " numeric_cols = top_xgb_vars\n",
    " y_train =Data_train[\"t_flag\"]\n",
    " x_train =Data_train[numeric_cols]\n",
    " #test data\n",
    " y_test =Data_test[\"t_flag\"]\n",
    " x_test =Data_test[numeric_cols]\n",
    " #Out of Time\n",
    " y_oot =Data_OOT[\"t_flag\"]\n",
    " x_oot =Data_OOT[numeric_cols]\n",
    "\n",
    " print(i)\n",
    " xgb_clf.fit(x_train,y_train)   \n",
    "\n",
    " y_pro_train =xgb_clf.predict_proba(x_train)[:, 1]\n",
    " train_pro = metrics.roc_auc_score(y_train,y_pro_train)\n",
    " train_pro\n",
    " testval[i][0] = train_pro   \n",
    " print(train_pro)\n",
    "\n",
    " y_pro_oot = xgb_clf.predict_proba(x_oot)[:, 1]\n",
    " oot_pro = metrics.roc_auc_score(y_oot,y_pro_oot)\n",
    " oot_pro\n",
    " testval[i][1] =  oot_pro\n",
    " print(oot_pro)\n",
    " print(\"/n\")"
   ]
  },
  {
   "cell_type": "code",
   "execution_count": null,
   "metadata": {},
   "outputs": [],
   "source": [
    "testval "
   ]
  },
  {
   "cell_type": "code",
   "execution_count": null,
   "metadata": {},
   "outputs": [],
   "source": []
  }
 ],
 "metadata": {
  "kernelspec": {
   "display_name": "Python 3",
   "language": "python",
   "name": "python3"
  },
  "language_info": {
   "codemirror_mode": {
    "name": "ipython",
    "version": 3
   },
   "file_extension": ".py",
   "mimetype": "text/x-python",
   "name": "python",
   "nbconvert_exporter": "python",
   "pygments_lexer": "ipython3",
   "version": "3.7.4"
  }
 },
 "nbformat": 4,
 "nbformat_minor": 4
}
